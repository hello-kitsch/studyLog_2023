{
 "cells": [
  {
   "cell_type": "markdown",
   "id": "7600f1a9",
   "metadata": {},
   "source": [
    "- 날짜/시간(datetime)은 날짜와 시간을 저장하는 데이터 유형\n",
    "  - 시간 경과에 따른 경향을 확인할 수 있으므로 가치가 있음\n",
    "  - 데이터셋의 시간 정보는 보통 데이터의 경향이 나타나는 이유를 뒷받침\n",
    "- 파이썬에 내장된 날짜/시간 객체\n",
    "- 판다스의 Timestamp, Timedelta 객체\n",
    "- 라이브러리를 사용하여 문자열을 날짜로 변환, 시간차를 연산, 기간 계산 가능"
   ]
  },
  {
   "cell_type": "markdown",
   "id": "450e0cda",
   "metadata": {},
   "source": [
    "# Timestamp 객체\n",
    "- 모듈: 파이썬 코드가 담긴 파일. 표준 라이브러리는 DB연결, 수학, 테스트 등의 일반적 문제를 해결하는 솔루션을 제공\n",
    "- 파이썬에는 250개의 모듈이 존재"
   ]
  },
  {
   "cell_type": "markdown",
   "id": "799c1607",
   "metadata": {},
   "source": [
    "## 파이썬의 날짜/시간\n",
    "- 메모리 사용량 관리를 위해 표준 라이브러리 모듈을 자동으로 불러오지 않음 -> 개발자가 원하는 모듈을 프로젝트에 명시적으로 가져와야함\n",
    "- import 키워드(모듈)와 as 키워드(별칭)"
   ]
  },
  {
   "cell_type": "code",
   "execution_count": 1,
   "id": "0eb69c22",
   "metadata": {},
   "outputs": [
    {
     "data": {
      "text/plain": [
       "datetime.date(1991, 4, 12)"
      ]
     },
     "execution_count": 1,
     "metadata": {},
     "output_type": "execute_result"
    }
   ],
   "source": [
    "#date 모듈: 하나의 날짜를 모델링, 시간은 저장X\n",
    "import datetime as dt\n",
    "import pandas as pd\n",
    "\n",
    "birthday = dt.date(1991, 4, 12)\n",
    "#birthday = dt.date(year = 1991, month = 4, day = 12)\n",
    "birthday"
   ]
  },
  {
   "cell_type": "code",
   "execution_count": 2,
   "id": "7bf333c2",
   "metadata": {},
   "outputs": [
    {
     "data": {
      "text/plain": [
       "1991"
      ]
     },
     "execution_count": 2,
     "metadata": {},
     "output_type": "execute_result"
    }
   ],
   "source": [
    "birthday.year"
   ]
  },
  {
   "cell_type": "code",
   "execution_count": 3,
   "id": "2a445b89",
   "metadata": {},
   "outputs": [
    {
     "data": {
      "text/plain": [
       "4"
      ]
     },
     "execution_count": 3,
     "metadata": {},
     "output_type": "execute_result"
    }
   ],
   "source": [
    "birthday.month"
   ]
  },
  {
   "cell_type": "code",
   "execution_count": 4,
   "id": "f5ac5246",
   "metadata": {},
   "outputs": [
    {
     "data": {
      "text/plain": [
       "12"
      ]
     },
     "execution_count": 4,
     "metadata": {},
     "output_type": "execute_result"
    }
   ],
   "source": [
    "birthday.day"
   ]
  },
  {
   "cell_type": "markdown",
   "id": "bef0740c",
   "metadata": {},
   "source": [
    "- date객체는 불변 객체 -> 생성한 후에 내부 상태 변경 불가\n",
    "  - date 속성을 덮어쓰려고 하면 AttributeError 예외 발생"
   ]
  },
  {
   "cell_type": "code",
   "execution_count": 5,
   "id": "70345be6",
   "metadata": {},
   "outputs": [
    {
     "ename": "AttributeError",
     "evalue": "attribute 'month' of 'datetime.date' objects is not writable",
     "output_type": "error",
     "traceback": [
      "\u001b[1;31m---------------------------------------------------------------------------\u001b[0m",
      "\u001b[1;31mAttributeError\u001b[0m                            Traceback (most recent call last)",
      "Cell \u001b[1;32mIn[5], line 1\u001b[0m\n\u001b[1;32m----> 1\u001b[0m birthday\u001b[38;5;241m.\u001b[39mmonth \u001b[38;5;241m=\u001b[39m \u001b[38;5;241m10\u001b[39m\n",
      "\u001b[1;31mAttributeError\u001b[0m: attribute 'month' of 'datetime.date' objects is not writable"
     ]
    }
   ],
   "source": [
    "birthday.month = 10"
   ]
  },
  {
   "cell_type": "markdown",
   "id": "893b2692",
   "metadata": {},
   "source": [
    "- date와 대응하는 time 클래스는 특정 시간을 모델링(날짜는 중요x)\n",
    "  - hour(시), minute(분), second(초)\n",
    "  - 불변 객체"
   ]
  },
  {
   "cell_type": "code",
   "execution_count": 6,
   "id": "8aa59308",
   "metadata": {},
   "outputs": [
    {
     "data": {
      "text/plain": [
       "datetime.time(6, 43, 25)"
      ]
     },
     "execution_count": 6,
     "metadata": {},
     "output_type": "execute_result"
    }
   ],
   "source": [
    "alarm_clock = dt.time(6, 43, 25)\n",
    "#alarm_clock = dt.time(hour = 6, minute = 43, second = 25)\n",
    "alarm_clock"
   ]
  },
  {
   "cell_type": "code",
   "execution_count": 7,
   "id": "9e1a1888",
   "metadata": {},
   "outputs": [
    {
     "data": {
      "text/plain": [
       "datetime.time(0, 0)"
      ]
     },
     "execution_count": 7,
     "metadata": {},
     "output_type": "execute_result"
    }
   ],
   "source": [
    "#time 메서드의 기본 인수는 모두 0 -> 자정\n",
    "dt.time()"
   ]
  },
  {
   "cell_type": "code",
   "execution_count": 8,
   "id": "f4baf565",
   "metadata": {},
   "outputs": [
    {
     "data": {
      "text/plain": [
       "datetime.time(9, 0, 42)"
      ]
     },
     "execution_count": 8,
     "metadata": {},
     "output_type": "execute_result"
    }
   ],
   "source": [
    "dt.time(hour=9, second=42)"
   ]
  },
  {
   "cell_type": "code",
   "execution_count": 9,
   "id": "2e753237",
   "metadata": {},
   "outputs": [
    {
     "data": {
      "text/plain": [
       "datetime.time(19, 43, 22)"
      ]
     },
     "execution_count": 9,
     "metadata": {},
     "output_type": "execute_result"
    }
   ],
   "source": [
    "#time 메서드의 생성자는 24시간제를 사용\n",
    "dt.time(19, 43, 22)"
   ]
  },
  {
   "cell_type": "code",
   "execution_count": 10,
   "id": "4aded14b",
   "metadata": {},
   "outputs": [
    {
     "data": {
      "text/plain": [
       "6"
      ]
     },
     "execution_count": 10,
     "metadata": {},
     "output_type": "execute_result"
    }
   ],
   "source": [
    "#time 객체는 생성자의 인수를 객체의 속성으로 저장\n",
    "alarm_clock.hour"
   ]
  },
  {
   "cell_type": "code",
   "execution_count": 11,
   "id": "7c24eadb",
   "metadata": {},
   "outputs": [
    {
     "data": {
      "text/plain": [
       "43"
      ]
     },
     "execution_count": 11,
     "metadata": {},
     "output_type": "execute_result"
    }
   ],
   "source": [
    "alarm_clock.minute"
   ]
  },
  {
   "cell_type": "code",
   "execution_count": 12,
   "id": "5e69dcc7",
   "metadata": {},
   "outputs": [
    {
     "data": {
      "text/plain": [
       "25"
      ]
     },
     "execution_count": 12,
     "metadata": {},
     "output_type": "execute_result"
    }
   ],
   "source": [
    "alarm_clock.second"
   ]
  },
  {
   "cell_type": "code",
   "execution_count": 13,
   "id": "832215df",
   "metadata": {},
   "outputs": [
    {
     "data": {
      "text/plain": [
       "datetime.datetime(1969, 7, 20, 22, 56, 20)"
      ]
     },
     "execution_count": 13,
     "metadata": {},
     "output_type": "execute_result"
    }
   ],
   "source": [
    "#날짜와 시간을 모두 포함하는 datetime 객체: year, month, day, hour, minute, second\n",
    "moon_landing = dt.datetime(1969, 7, 20, 22, 56, 20)\n",
    "moon_landing = dt.datetime(\n",
    "    year = 1969,\n",
    "    month = 7,\n",
    "    day = 20,\n",
    "    hour = 22,\n",
    "    minute = 56,\n",
    "    second = 20\n",
    ")\n",
    "moon_landing"
   ]
  },
  {
   "cell_type": "code",
   "execution_count": 14,
   "id": "6a6c2c59",
   "metadata": {},
   "outputs": [
    {
     "data": {
      "text/plain": [
       "datetime.datetime(2020, 1, 1, 0, 0)"
      ]
     },
     "execution_count": 14,
     "metadata": {},
     "output_type": "execute_result"
    }
   ],
   "source": [
    "dt.datetime(2020, 1, 1)"
   ]
  },
  {
   "cell_type": "code",
   "execution_count": 15,
   "id": "534cceda",
   "metadata": {},
   "outputs": [
    {
     "data": {
      "text/plain": [
       "datetime.timedelta(days=62, seconds=14292)"
      ]
     },
     "execution_count": 15,
     "metadata": {},
     "output_type": "execute_result"
    }
   ],
   "source": [
    "#timedelta 메서드: 시간차를 모델링\n",
    "# 생성자의 매개변수: weeks, days, hours(선택사항, 기본값=0)\n",
    "dt.timedelta(\n",
    "    weeks = 8,\n",
    "    days = 6,\n",
    "    hours = 3,\n",
    "    minutes = 58,\n",
    "    seconds = 12\n",
    ")"
   ]
  },
  {
   "cell_type": "markdown",
   "id": "3cdab3b2",
   "metadata": {},
   "source": [
    "## 판다스의 날짜/시간\n",
    "- datetime 모듈의 아쉬운 점\n",
    "  - 날짜/시간을 다루려면 많은 수의 모듈을 알아야 함.(달력, 시간변환, 유틸리티 등의 추가 모듈)\n",
    "  - 기억해야 하는 클래스가 많음\n",
    "  - 시간대 로직을 위한 객체API를 알아야함.\n",
    "- 판다스의 Timestamp 객체 (파이썬의 리스트와 판다스의 Series의 관계)\n",
    "- Timestamp 생성자는 판다스의 최상위 수준에서 사용 가능.(datetime 생성자와 매개변수가 동일)"
   ]
  },
  {
   "cell_type": "code",
   "execution_count": 16,
   "id": "b65dbf4f",
   "metadata": {},
   "outputs": [
    {
     "data": {
      "text/plain": [
       "Timestamp('1991-04-12 00:00:00')"
      ]
     },
     "execution_count": 16,
     "metadata": {},
     "output_type": "execute_result"
    }
   ],
   "source": [
    "pd.Timestamp(1991, 4, 12)\n",
    "#pd.Timestamp(year = 1991, month = 4, day = 12)"
   ]
  },
  {
   "cell_type": "code",
   "execution_count": 17,
   "id": "7ba805fc",
   "metadata": {},
   "outputs": [
    {
     "name": "stderr",
     "output_type": "stream",
     "text": [
      "C:\\Users\\jyluc\\AppData\\Local\\Temp\\ipykernel_10408\\1425749507.py:2: FutureWarning: Comparison of Timestamp with datetime.date is deprecated in order to match the standard library behavior. In a future version these will be considered non-comparable. Use 'ts == pd.Timestamp(date)' or 'ts.date() == date' instead.\n",
      "  (pd.Timestamp(year = 1991, month = 4, day = 12)\n"
     ]
    },
    {
     "data": {
      "text/plain": [
       "True"
      ]
     },
     "execution_count": 17,
     "metadata": {},
     "output_type": "execute_result"
    }
   ],
   "source": [
    "#판다스는 두 객체가 동일한 정보를 저장하는 경우 Timestamp를 datetime과 같다고 간주\n",
    "(pd.Timestamp(year = 1991, month = 4, day = 12) \n",
    " == dt.date(year = 1991, month = 4, day =12))"
   ]
  },
  {
   "cell_type": "code",
   "execution_count": 18,
   "id": "dde3f7e7",
   "metadata": {},
   "outputs": [
    {
     "data": {
      "text/plain": [
       "True"
      ]
     },
     "execution_count": 18,
     "metadata": {},
     "output_type": "execute_result"
    }
   ],
   "source": [
    "(pd.Timestamp(year = 1991, month = 4, day = 12, minute = 2)\n",
    " == dt.datetime(year = 1991, month = 4, day = 12, minute = 2))"
   ]
  },
  {
   "cell_type": "code",
   "execution_count": 19,
   "id": "f74c04de",
   "metadata": {},
   "outputs": [
    {
     "data": {
      "text/plain": [
       "False"
      ]
     },
     "execution_count": 19,
     "metadata": {},
     "output_type": "execute_result"
    }
   ],
   "source": [
    "(pd.Timestamp(year = 1991, month = 4, day = 12, minute = 2)\n",
    " == dt.datetime(year = 1991, month = 4, day = 12, minute = 1))"
   ]
  },
  {
   "cell_type": "code",
   "execution_count": 20,
   "id": "0d6a49c4",
   "metadata": {},
   "outputs": [
    {
     "data": {
      "text/plain": [
       "Timestamp('2015-03-31 00:00:00')"
      ]
     },
     "execution_count": 20,
     "metadata": {},
     "output_type": "execute_result"
    }
   ],
   "source": [
    "#Timestamp 생성자는 유연->다양한 입력을 허용(문자열-형식 무관)\n",
    "pd.Timestamp(\"2015-03-31\")"
   ]
  },
  {
   "cell_type": "code",
   "execution_count": 21,
   "id": "53906298",
   "metadata": {},
   "outputs": [
    {
     "data": {
      "text/plain": [
       "Timestamp('2015-03-31 00:00:00')"
      ]
     },
     "execution_count": 21,
     "metadata": {},
     "output_type": "execute_result"
    }
   ],
   "source": [
    "pd.Timestamp(\"2015/03/31\")"
   ]
  },
  {
   "cell_type": "code",
   "execution_count": 22,
   "id": "172c911a",
   "metadata": {},
   "outputs": [
    {
     "data": {
      "text/plain": [
       "Timestamp('2015-03-31 00:00:00')"
      ]
     },
     "execution_count": 22,
     "metadata": {},
     "output_type": "execute_result"
    }
   ],
   "source": [
    "pd.Timestamp(\"03/31/2015\")"
   ]
  },
  {
   "cell_type": "code",
   "execution_count": 23,
   "id": "df931380",
   "metadata": {},
   "outputs": [
    {
     "data": {
      "text/plain": [
       "Timestamp('2021-03-08 08:35:15')"
      ]
     },
     "execution_count": 23,
     "metadata": {},
     "output_type": "execute_result"
    }
   ],
   "source": [
    "pd.Timestamp(\"2021-03-08 08:35:15\")"
   ]
  },
  {
   "cell_type": "code",
   "execution_count": 24,
   "id": "300b8aea",
   "metadata": {},
   "outputs": [
    {
     "data": {
      "text/plain": [
       "Timestamp('2021-03-08 18:13:29')"
      ]
     },
     "execution_count": 24,
     "metadata": {},
     "output_type": "execute_result"
    }
   ],
   "source": [
    "pd.Timestamp(\"2021-03-08 6:13:29 PM\")"
   ]
  },
  {
   "cell_type": "code",
   "execution_count": 25,
   "id": "95ea6988",
   "metadata": {},
   "outputs": [
    {
     "data": {
      "text/plain": [
       "Timestamp('2000-02-03 21:35:22')"
      ]
     },
     "execution_count": 25,
     "metadata": {},
     "output_type": "execute_result"
    }
   ],
   "source": [
    "#Timestamp 생성자는 파이썬의 기본 date, time, datetime 객체 입력도 허용\n",
    "pd.Timestamp(dt.datetime(2000, 2, 3, 21, 35, 22))"
   ]
  },
  {
   "cell_type": "code",
   "execution_count": 26,
   "id": "c0f968fb",
   "metadata": {},
   "outputs": [
    {
     "name": "stdout",
     "output_type": "stream",
     "text": [
      "2000\n",
      "2\n",
      "3\n",
      "21\n",
      "35\n",
      "22\n"
     ]
    }
   ],
   "source": [
    "my_time = pd.Timestamp(dt.datetime(2000, 2, 3, 21, 35, 22))\n",
    "print(my_time.year)\n",
    "print(my_time.month)\n",
    "print(my_time.day)\n",
    "print(my_time.hour)\n",
    "print(my_time.minute)\n",
    "print(my_time.second)"
   ]
  },
  {
   "cell_type": "markdown",
   "id": "b9bdecb0",
   "metadata": {},
   "source": [
    "# 다중 Timestamp를 저장하는 DatetimeIndex\n",
    "- 인덱스: 판다스 자료구조에 붙여지는 식별자 레이블 컬렉션"
   ]
  },
  {
   "cell_type": "code",
   "execution_count": 27,
   "id": "69ae01da",
   "metadata": {},
   "outputs": [
    {
     "data": {
      "text/plain": [
       "RangeIndex(start=0, stop=3, step=1)"
      ]
     },
     "execution_count": 27,
     "metadata": {},
     "output_type": "execute_result"
    }
   ],
   "source": [
    "# RangeIndex 객체: 오름차순 또는 내림차순으로 정렬된 숫자 값의 시퀀스\n",
    "# index 속성을 사용하여 (Series/DataFrame의) 인덱스에 접근 가능\n",
    "pd.Series([1, 2, 3]).index"
   ]
  },
  {
   "cell_type": "code",
   "execution_count": 28,
   "id": "b809dc87",
   "metadata": {},
   "outputs": [
    {
     "data": {
      "text/plain": [
       "Index(['A', 'B', 'C'], dtype='object')"
      ]
     },
     "execution_count": 28,
     "metadata": {},
     "output_type": "execute_result"
    }
   ],
   "source": [
    "# Series의 내용에 따라 판다스가 붙이는 인덱스 객체가 달라짐\n",
    "# Index 객체: 문자열 레이블 컬렉션 저장\n",
    "pd.Series([1, 2, 3], index = [\"A\", \"B\", \"C\"]).index"
   ]
  },
  {
   "cell_type": "code",
   "execution_count": 29,
   "id": "943be916",
   "metadata": {},
   "outputs": [
    {
     "data": {
      "text/plain": [
       "DatetimeIndex(['2020-01-01', '2020-02-01', '2020-03-01'], dtype='datetime64[ns]', freq=None)"
      ]
     },
     "execution_count": 29,
     "metadata": {},
     "output_type": "execute_result"
    }
   ],
   "source": [
    "#DatetimeIndex는 Timestamp 객체를 저장하는 인덱스\n",
    "timestamps = [\n",
    "    pd.Timestamp(\"2020-01-01\"),\n",
    "    pd.Timestamp(\"2020-02-01\"),\n",
    "    pd.Timestamp(\"2020-03-01\"),\n",
    "]\n",
    "pd.Series([1, 2, 3], index = timestamps).index"
   ]
  },
  {
   "cell_type": "code",
   "execution_count": 30,
   "id": "6bf6febd",
   "metadata": {},
   "outputs": [
    {
     "data": {
      "text/plain": [
       "DatetimeIndex(['2020-01-01', '2020-02-01', '2020-03-01'], dtype='datetime64[ns]', freq=None)"
      ]
     },
     "execution_count": 30,
     "metadata": {},
     "output_type": "execute_result"
    }
   ],
   "source": [
    "#DatetimeIndex는 datetime 객체도 저장하는 인덱스\n",
    "datetimes = [\n",
    "    dt.datetime(2020, 1, 1),\n",
    "    dt.datetime(2020, 2, 1),\n",
    "    dt.datetime(2020, 3, 1),\n",
    "]\n",
    "pd.Series([1, 2, 3], index = datetimes).index"
   ]
  },
  {
   "cell_type": "code",
   "execution_count": 31,
   "id": "d82de4b7",
   "metadata": {},
   "outputs": [
    {
     "data": {
      "text/plain": [
       "DatetimeIndex(['2018-01-02', '2016-04-12', '2009-09-07'], dtype='datetime64[ns]', freq=None)"
      ]
     },
     "execution_count": 31,
     "metadata": {},
     "output_type": "execute_result"
    }
   ],
   "source": [
    "#판다스의 최상위 수준에서 DatetimeIndex 생성자를 사용 가능\n",
    "#생성자의 data 매개변수: 모든 반복 가능한 날짜 컬렉션(문자열, 날짜/시간, Timestamp, 혼합 데이터 유형)을 인수로 허용\n",
    "string_dates = [\"2018/01/02\", \"2016/04/12\", \"2009/09/07\"]\n",
    "pd.DatetimeIndex(string_dates)"
   ]
  },
  {
   "cell_type": "code",
   "execution_count": 32,
   "id": "85533aca",
   "metadata": {},
   "outputs": [
    {
     "data": {
      "text/plain": [
       "DatetimeIndex(['2018-01-02', '2016-04-12', '2009-09-07'], dtype='datetime64[ns]', freq=None)"
      ]
     },
     "execution_count": 32,
     "metadata": {},
     "output_type": "execute_result"
    }
   ],
   "source": [
    "mixed_dates = [\n",
    "    dt.date(2018, 1, 2),\n",
    "    \"2016/04/12\",\n",
    "    pd.Timestamp(2009, 9, 7)\n",
    "]\n",
    "dt_index = pd.DatetimeIndex(mixed_dates)\n",
    "dt_index"
   ]
  },
  {
   "cell_type": "code",
   "execution_count": 33,
   "id": "71e35936",
   "metadata": {},
   "outputs": [
    {
     "data": {
      "text/plain": [
       "2018-01-02    100\n",
       "2016-04-12    200\n",
       "2009-09-07    300\n",
       "dtype: int64"
      ]
     },
     "execution_count": 33,
     "metadata": {},
     "output_type": "execute_result"
    }
   ],
   "source": [
    "s = pd.Series(data = [100, 200, 300], index = dt_index)\n",
    "s"
   ]
  },
  {
   "cell_type": "markdown",
   "id": "c060b418",
   "metadata": {},
   "source": [
    "- 판다스에서는 날짜/사간 값을 문자열이 아닌 Timestamp로 저장해야만 날짜 및 시간과 관련된 연산을 적용 가능\n",
    "  - 문자열에서 요일 등의 정보를 추론 불가"
   ]
  },
  {
   "cell_type": "code",
   "execution_count": 34,
   "id": "5f4d7f98",
   "metadata": {},
   "outputs": [
    {
     "data": {
      "text/plain": [
       "2009-09-07    300\n",
       "2016-04-12    200\n",
       "2018-01-02    100\n",
       "dtype: int64"
      ]
     },
     "execution_count": 34,
     "metadata": {},
     "output_type": "execute_result"
    }
   ],
   "source": [
    "#sort_index 메서드를 사용하여 DatetimeIndex를 오름차순 또는 내림차순으로 정렬 가능\n",
    "s.sort_index()"
   ]
  },
  {
   "cell_type": "code",
   "execution_count": 35,
   "id": "1bff40e2",
   "metadata": {},
   "outputs": [
    {
     "data": {
      "text/plain": [
       "True"
      ]
     },
     "execution_count": 35,
     "metadata": {},
     "output_type": "execute_result"
    }
   ],
   "source": [
    "#날짜/시간 정렬 시 모두 고려\n",
    "#다양한 정렬과 비교연산을 Timestamp에 바로 적용 가능\n",
    "morning = pd.Timestamp(\"2020-01-01 11:23:22 AM\")\n",
    "evening = pd.Timestamp(\"2020-01-01 11:23:22 PM\")\n",
    "\n",
    "morning < evening"
   ]
  },
  {
   "cell_type": "markdown",
   "id": "3b07924e",
   "metadata": {},
   "source": [
    "# 열 또는 인덱스 값을 날짜/시간으로 변환\n"
   ]
  },
  {
   "cell_type": "code",
   "execution_count": 36,
   "id": "057ff119",
   "metadata": {},
   "outputs": [
    {
     "data": {
      "text/html": [
       "<div>\n",
       "<style scoped>\n",
       "    .dataframe tbody tr th:only-of-type {\n",
       "        vertical-align: middle;\n",
       "    }\n",
       "\n",
       "    .dataframe tbody tr th {\n",
       "        vertical-align: top;\n",
       "    }\n",
       "\n",
       "    .dataframe thead th {\n",
       "        text-align: right;\n",
       "    }\n",
       "</style>\n",
       "<table border=\"1\" class=\"dataframe\">\n",
       "  <thead>\n",
       "    <tr style=\"text-align: right;\">\n",
       "      <th></th>\n",
       "      <th>Date</th>\n",
       "      <th>High</th>\n",
       "      <th>Low</th>\n",
       "      <th>Open</th>\n",
       "      <th>Close</th>\n",
       "    </tr>\n",
       "  </thead>\n",
       "  <tbody>\n",
       "    <tr>\n",
       "      <th>0</th>\n",
       "      <td>1962-01-02</td>\n",
       "      <td>0.096026</td>\n",
       "      <td>0.092908</td>\n",
       "      <td>0.092908</td>\n",
       "      <td>0.092908</td>\n",
       "    </tr>\n",
       "    <tr>\n",
       "      <th>1</th>\n",
       "      <td>1962-01-03</td>\n",
       "      <td>0.094467</td>\n",
       "      <td>0.092908</td>\n",
       "      <td>0.092908</td>\n",
       "      <td>0.094155</td>\n",
       "    </tr>\n",
       "    <tr>\n",
       "      <th>2</th>\n",
       "      <td>1962-01-04</td>\n",
       "      <td>0.094467</td>\n",
       "      <td>0.093532</td>\n",
       "      <td>0.094155</td>\n",
       "      <td>0.094155</td>\n",
       "    </tr>\n",
       "    <tr>\n",
       "      <th>3</th>\n",
       "      <td>1962-01-05</td>\n",
       "      <td>0.094779</td>\n",
       "      <td>0.093844</td>\n",
       "      <td>0.094155</td>\n",
       "      <td>0.094467</td>\n",
       "    </tr>\n",
       "    <tr>\n",
       "      <th>4</th>\n",
       "      <td>1962-01-08</td>\n",
       "      <td>0.095714</td>\n",
       "      <td>0.092285</td>\n",
       "      <td>0.094467</td>\n",
       "      <td>0.094155</td>\n",
       "    </tr>\n",
       "  </tbody>\n",
       "</table>\n",
       "</div>"
      ],
      "text/plain": [
       "         Date      High       Low      Open     Close\n",
       "0  1962-01-02  0.096026  0.092908  0.092908  0.092908\n",
       "1  1962-01-03  0.094467  0.092908  0.092908  0.094155\n",
       "2  1962-01-04  0.094467  0.093532  0.094155  0.094155\n",
       "3  1962-01-05  0.094779  0.093844  0.094155  0.094467\n",
       "4  1962-01-08  0.095714  0.092285  0.094467  0.094155"
      ]
     },
     "execution_count": 36,
     "metadata": {},
     "output_type": "execute_result"
    }
   ],
   "source": [
    "disney = pd.read_csv(\"disney.csv\")\n",
    "disney.head()"
   ]
  },
  {
   "cell_type": "code",
   "execution_count": 37,
   "id": "06a11a4b",
   "metadata": {},
   "outputs": [
    {
     "data": {
      "text/plain": [
       "Date      object\n",
       "High     float64\n",
       "Low      float64\n",
       "Open     float64\n",
       "Close    float64\n",
       "dtype: object"
      ]
     },
     "execution_count": 37,
     "metadata": {},
     "output_type": "execute_result"
    }
   ],
   "source": [
    "#read_csv는 \"숫자가 아닌 열\"의 모든 값을 문자열로 가져옴-object\n",
    "disney.dtypes"
   ]
  },
  {
   "cell_type": "code",
   "execution_count": 38,
   "id": "62bc2cb1",
   "metadata": {},
   "outputs": [],
   "source": [
    "#datetime 객체로 변환하는 방법-1\n",
    "disney = pd.read_csv(\"disney.csv\", parse_dates = [\"Date\"])"
   ]
  },
  {
   "cell_type": "code",
   "execution_count": 39,
   "id": "a8834bc2",
   "metadata": {},
   "outputs": [
    {
     "data": {
      "text/plain": [
       "DatetimeIndex(['2015-01-01', '2016-02-02', '2017-03-03'], dtype='datetime64[ns]', freq=None)"
      ]
     },
     "execution_count": 39,
     "metadata": {},
     "output_type": "execute_result"
    }
   ],
   "source": [
    "#datetime 객체로 변환하는 방법-2\n",
    "#to_datetime 변환함수를 사용하여 반복 가능한 객체를 받아 \n",
    "#해당 값을 datetime으로 변환, DatetimeIndex에 값을 담아 반환\n",
    "string_dates = [\"2015-01-01\", \"2016-02-02\", \"2017-03-03\"]\n",
    "dt_index = pd.to_datetime(string_dates)\n",
    "dt_index"
   ]
  },
  {
   "cell_type": "code",
   "execution_count": 40,
   "id": "21049613",
   "metadata": {},
   "outputs": [
    {
     "data": {
      "text/plain": [
       "0   1962-01-02\n",
       "1   1962-01-03\n",
       "2   1962-01-04\n",
       "3   1962-01-05\n",
       "4   1962-01-08\n",
       "Name: Date, dtype: datetime64[ns]"
      ]
     },
     "execution_count": 40,
     "metadata": {},
     "output_type": "execute_result"
    }
   ],
   "source": [
    "#disney DataFrame의 Data Series를 to_datetime 함수로 전달\n",
    "pd.to_datetime(disney[\"Date\"]).head()"
   ]
  },
  {
   "cell_type": "code",
   "execution_count": 41,
   "id": "e0c7b615",
   "metadata": {},
   "outputs": [],
   "source": [
    "disney[\"Date\"] = pd.to_datetime(disney[\"Date\"])"
   ]
  },
  {
   "cell_type": "code",
   "execution_count": 42,
   "id": "b7f86669",
   "metadata": {},
   "outputs": [
    {
     "data": {
      "text/plain": [
       "Date     datetime64[ns]\n",
       "High            float64\n",
       "Low             float64\n",
       "Open            float64\n",
       "Close           float64\n",
       "dtype: object"
      ]
     },
     "execution_count": 42,
     "metadata": {},
     "output_type": "execute_result"
    }
   ],
   "source": [
    "disney.dtypes"
   ]
  },
  {
   "cell_type": "markdown",
   "id": "af76ec56",
   "metadata": {},
   "source": [
    "# DatetimeProperties 객체\n",
    "- 날짜/시간 Series의 dt 속성: DatetimeProperties 객체에 접근 가능"
   ]
  },
  {
   "cell_type": "code",
   "execution_count": 43,
   "id": "b2ebf831",
   "metadata": {},
   "outputs": [
    {
     "data": {
      "text/plain": [
       "<pandas.core.indexes.accessors.DatetimeProperties object at 0x0000022CFC274EB0>"
      ]
     },
     "execution_count": 43,
     "metadata": {},
     "output_type": "execute_result"
    }
   ],
   "source": [
    "disney[\"Date\"].dt"
   ]
  },
  {
   "cell_type": "markdown",
   "id": "e6e24af3",
   "metadata": {},
   "source": [
    "- 날짜/시간의 dt속성 ~= 문자열의 str 속성과 같은 역할(특정 유형의 데이터를 조작하는데 특화)\n",
    "  - DatetimeProperties 객체의 속성에 접근하고 메서드를 호출하여 열의 datetime에서 정보를 추출 가능"
   ]
  },
  {
   "cell_type": "code",
   "execution_count": 44,
   "id": "08c7bb25",
   "metadata": {},
   "outputs": [
    {
     "data": {
      "text/plain": [
       "0    2\n",
       "1    3\n",
       "2    4\n",
       "Name: Date, dtype: int64"
      ]
     },
     "execution_count": 44,
     "metadata": {},
     "output_type": "execute_result"
    }
   ],
   "source": [
    "#day 속성: 각 날짜에서 일을 가져옴\n",
    "disney[\"Date\"].dt.day.head(3)"
   ]
  },
  {
   "cell_type": "code",
   "execution_count": 45,
   "id": "2efc9dc6",
   "metadata": {},
   "outputs": [
    {
     "data": {
      "text/plain": [
       "0   1962-01-02\n",
       "1   1962-01-03\n",
       "2   1962-01-04\n",
       "Name: Date, dtype: datetime64[ns]"
      ]
     },
     "execution_count": 45,
     "metadata": {},
     "output_type": "execute_result"
    }
   ],
   "source": [
    "disney[\"Date\"].head(3)"
   ]
  },
  {
   "cell_type": "code",
   "execution_count": 46,
   "id": "9d2f259a",
   "metadata": {},
   "outputs": [
    {
     "data": {
      "text/plain": [
       "0    1\n",
       "1    1\n",
       "2    1\n",
       "Name: Date, dtype: int64"
      ]
     },
     "execution_count": 46,
     "metadata": {},
     "output_type": "execute_result"
    }
   ],
   "source": [
    "#month 속성: 월 숫자를 담은 Series를 반환 (1부터 할당)\n",
    "disney[\"Date\"].dt.month.head(3)"
   ]
  },
  {
   "cell_type": "code",
   "execution_count": 47,
   "id": "6b62eeb7",
   "metadata": {},
   "outputs": [
    {
     "data": {
      "text/plain": [
       "0    1962\n",
       "1    1962\n",
       "2    1962\n",
       "Name: Date, dtype: int64"
      ]
     },
     "execution_count": 47,
     "metadata": {},
     "output_type": "execute_result"
    }
   ],
   "source": [
    "#year 속성: 연도를 담은 새로운 Series를 반환\n",
    "disney[\"Date\"].dt.year.head(3)"
   ]
  },
  {
   "cell_type": "code",
   "execution_count": 48,
   "id": "3cb14d87",
   "metadata": {},
   "outputs": [
    {
     "data": {
      "text/plain": [
       "0    1\n",
       "1    2\n",
       "2    3\n",
       "3    4\n",
       "4    0\n",
       "Name: Date, dtype: int64"
      ]
     },
     "execution_count": 48,
     "metadata": {},
     "output_type": "execute_result"
    }
   ],
   "source": [
    "#dayofweek 속성: 날짜의 요일에 대한 숫자를 담은 Series를 반환\n",
    "disney[\"Date\"].dt.dayofweek.head()"
   ]
  },
  {
   "cell_type": "code",
   "execution_count": 49,
   "id": "2c18d2e2",
   "metadata": {},
   "outputs": [
    {
     "data": {
      "text/plain": [
       "0      Tuesday\n",
       "1    Wednesday\n",
       "2     Thursday\n",
       "3       Friday\n",
       "4       Monday\n",
       "Name: Date, dtype: object"
      ]
     },
     "execution_count": 49,
     "metadata": {},
     "output_type": "execute_result"
    }
   ],
   "source": [
    "#day_name **메서드**: 날짜의 요일의 이름을 담은 Series 반환\n",
    "disney[\"Date\"].dt.day_name().head()"
   ]
  },
  {
   "cell_type": "code",
   "execution_count": 50,
   "id": "0c439542",
   "metadata": {},
   "outputs": [
    {
     "data": {
      "text/html": [
       "<div>\n",
       "<style scoped>\n",
       "    .dataframe tbody tr th:only-of-type {\n",
       "        vertical-align: middle;\n",
       "    }\n",
       "\n",
       "    .dataframe tbody tr th {\n",
       "        vertical-align: top;\n",
       "    }\n",
       "\n",
       "    .dataframe thead th {\n",
       "        text-align: right;\n",
       "    }\n",
       "</style>\n",
       "<table border=\"1\" class=\"dataframe\">\n",
       "  <thead>\n",
       "    <tr style=\"text-align: right;\">\n",
       "      <th></th>\n",
       "      <th>High</th>\n",
       "      <th>Low</th>\n",
       "      <th>Open</th>\n",
       "      <th>Close</th>\n",
       "    </tr>\n",
       "    <tr>\n",
       "      <th>Day of Week</th>\n",
       "      <th></th>\n",
       "      <th></th>\n",
       "      <th></th>\n",
       "      <th></th>\n",
       "    </tr>\n",
       "  </thead>\n",
       "  <tbody>\n",
       "    <tr>\n",
       "      <th>Friday</th>\n",
       "      <td>23.767304</td>\n",
       "      <td>23.318898</td>\n",
       "      <td>23.552872</td>\n",
       "      <td>23.554498</td>\n",
       "    </tr>\n",
       "    <tr>\n",
       "      <th>Monday</th>\n",
       "      <td>23.377271</td>\n",
       "      <td>22.930606</td>\n",
       "      <td>23.161392</td>\n",
       "      <td>23.162543</td>\n",
       "    </tr>\n",
       "    <tr>\n",
       "      <th>Thursday</th>\n",
       "      <td>23.770234</td>\n",
       "      <td>23.288687</td>\n",
       "      <td>23.534561</td>\n",
       "      <td>23.540359</td>\n",
       "    </tr>\n",
       "    <tr>\n",
       "      <th>Tuesday</th>\n",
       "      <td>23.791234</td>\n",
       "      <td>23.335267</td>\n",
       "      <td>23.571755</td>\n",
       "      <td>23.562907</td>\n",
       "    </tr>\n",
       "    <tr>\n",
       "      <th>Wednesday</th>\n",
       "      <td>23.842743</td>\n",
       "      <td>23.355419</td>\n",
       "      <td>23.605618</td>\n",
       "      <td>23.609873</td>\n",
       "    </tr>\n",
       "  </tbody>\n",
       "</table>\n",
       "</div>"
      ],
      "text/plain": [
       "                  High        Low       Open      Close\n",
       "Day of Week                                            \n",
       "Friday       23.767304  23.318898  23.552872  23.554498\n",
       "Monday       23.377271  22.930606  23.161392  23.162543\n",
       "Thursday     23.770234  23.288687  23.534561  23.540359\n",
       "Tuesday      23.791234  23.335267  23.571755  23.562907\n",
       "Wednesday    23.842743  23.355419  23.605618  23.609873"
      ]
     },
     "execution_count": 50,
     "metadata": {},
     "output_type": "execute_result"
    }
   ],
   "source": [
    "#디즈니 주식의 요일별 평균 수익율을 계산\n",
    "disney[\"Day of Week\"] = disney[\"Date\"].dt.day_name()\n",
    "group = disney.groupby(\"Day of Week\") #GroupBy객체가 group변수에 저장됨\n",
    "group.mean(numeric_only = True) #GroupBy 객체의 mean 메서드를 호출하여 각 그룹에 대한 값의 평균 계산"
   ]
  },
  {
   "cell_type": "code",
   "execution_count": 51,
   "id": "0fc312e9",
   "metadata": {},
   "outputs": [
    {
     "data": {
      "text/plain": [
       "0    January\n",
       "1    January\n",
       "2    January\n",
       "3    January\n",
       "4    January\n",
       "Name: Date, dtype: object"
      ]
     },
     "execution_count": 51,
     "metadata": {},
     "output_type": "execute_result"
    }
   ],
   "source": [
    "#month_name 메서드: 날자의 월 이름이 포함된 Series를 반환\n",
    "disney[\"Date\"].dt.month_name().head()"
   ]
  },
  {
   "cell_type": "code",
   "execution_count": 52,
   "id": "803006ed",
   "metadata": {},
   "outputs": [
    {
     "data": {
      "text/plain": [
       "14722    False\n",
       "14723    False\n",
       "14724    False\n",
       "14725     True\n",
       "14726    False\n",
       "Name: Date, dtype: bool"
      ]
     },
     "execution_count": 52,
     "metadata": {},
     "output_type": "execute_result"
    }
   ],
   "source": [
    "#is_quarter_start 속성: 행의 날짜가 분기의 시작 날짜와 같은지 여부를 불리언으로\n",
    "disney[\"Date\"].dt.is_quarter_start.tail()"
   ]
  },
  {
   "cell_type": "code",
   "execution_count": 53,
   "id": "c8ada286",
   "metadata": {},
   "outputs": [
    {
     "data": {
      "text/html": [
       "<div>\n",
       "<style scoped>\n",
       "    .dataframe tbody tr th:only-of-type {\n",
       "        vertical-align: middle;\n",
       "    }\n",
       "\n",
       "    .dataframe tbody tr th {\n",
       "        vertical-align: top;\n",
       "    }\n",
       "\n",
       "    .dataframe thead th {\n",
       "        text-align: right;\n",
       "    }\n",
       "</style>\n",
       "<table border=\"1\" class=\"dataframe\">\n",
       "  <thead>\n",
       "    <tr style=\"text-align: right;\">\n",
       "      <th></th>\n",
       "      <th>Date</th>\n",
       "      <th>High</th>\n",
       "      <th>Low</th>\n",
       "      <th>Open</th>\n",
       "      <th>Close</th>\n",
       "      <th>Day of Week</th>\n",
       "    </tr>\n",
       "  </thead>\n",
       "  <tbody>\n",
       "    <tr>\n",
       "      <th>189</th>\n",
       "      <td>1962-10-01</td>\n",
       "      <td>0.064849</td>\n",
       "      <td>0.062355</td>\n",
       "      <td>0.063913</td>\n",
       "      <td>0.062355</td>\n",
       "      <td>Monday</td>\n",
       "    </tr>\n",
       "    <tr>\n",
       "      <th>314</th>\n",
       "      <td>1963-04-01</td>\n",
       "      <td>0.087989</td>\n",
       "      <td>0.086704</td>\n",
       "      <td>0.087025</td>\n",
       "      <td>0.086704</td>\n",
       "      <td>Monday</td>\n",
       "    </tr>\n",
       "    <tr>\n",
       "      <th>377</th>\n",
       "      <td>1963-07-01</td>\n",
       "      <td>0.096338</td>\n",
       "      <td>0.095053</td>\n",
       "      <td>0.096338</td>\n",
       "      <td>0.095696</td>\n",
       "      <td>Monday</td>\n",
       "    </tr>\n",
       "    <tr>\n",
       "      <th>441</th>\n",
       "      <td>1963-10-01</td>\n",
       "      <td>0.110467</td>\n",
       "      <td>0.107898</td>\n",
       "      <td>0.107898</td>\n",
       "      <td>0.110467</td>\n",
       "      <td>Tuesday</td>\n",
       "    </tr>\n",
       "    <tr>\n",
       "      <th>565</th>\n",
       "      <td>1964-04-01</td>\n",
       "      <td>0.116248</td>\n",
       "      <td>0.112394</td>\n",
       "      <td>0.112394</td>\n",
       "      <td>0.116248</td>\n",
       "      <td>Wednesday</td>\n",
       "    </tr>\n",
       "  </tbody>\n",
       "</table>\n",
       "</div>"
      ],
      "text/plain": [
       "          Date      High       Low      Open     Close Day of Week\n",
       "189 1962-10-01  0.064849  0.062355  0.063913  0.062355      Monday\n",
       "314 1963-04-01  0.087989  0.086704  0.087025  0.086704      Monday\n",
       "377 1963-07-01  0.096338  0.095053  0.096338  0.095696      Monday\n",
       "441 1963-10-01  0.110467  0.107898  0.107898  0.110467     Tuesday\n",
       "565 1964-04-01  0.116248  0.112394  0.112394  0.116248   Wednesday"
      ]
     },
     "execution_count": 53,
     "metadata": {},
     "output_type": "execute_result"
    }
   ],
   "source": [
    "#불리언 Series 반환 결과를 대괄호 구문에 적용하여 행 추출\n",
    "disney[disney[\"Date\"].dt.is_quarter_start].head()"
   ]
  },
  {
   "cell_type": "code",
   "execution_count": 54,
   "id": "9e1a17aa",
   "metadata": {},
   "outputs": [
    {
     "data": {
      "text/html": [
       "<div>\n",
       "<style scoped>\n",
       "    .dataframe tbody tr th:only-of-type {\n",
       "        vertical-align: middle;\n",
       "    }\n",
       "\n",
       "    .dataframe tbody tr th {\n",
       "        vertical-align: top;\n",
       "    }\n",
       "\n",
       "    .dataframe thead th {\n",
       "        text-align: right;\n",
       "    }\n",
       "</style>\n",
       "<table border=\"1\" class=\"dataframe\">\n",
       "  <thead>\n",
       "    <tr style=\"text-align: right;\">\n",
       "      <th></th>\n",
       "      <th>Date</th>\n",
       "      <th>High</th>\n",
       "      <th>Low</th>\n",
       "      <th>Open</th>\n",
       "      <th>Close</th>\n",
       "      <th>Day of Week</th>\n",
       "    </tr>\n",
       "  </thead>\n",
       "  <tbody>\n",
       "    <tr>\n",
       "      <th>251</th>\n",
       "      <td>1962-12-31</td>\n",
       "      <td>0.074501</td>\n",
       "      <td>0.071290</td>\n",
       "      <td>0.074501</td>\n",
       "      <td>0.072253</td>\n",
       "      <td>Monday</td>\n",
       "    </tr>\n",
       "    <tr>\n",
       "      <th>440</th>\n",
       "      <td>1963-09-30</td>\n",
       "      <td>0.109825</td>\n",
       "      <td>0.105972</td>\n",
       "      <td>0.108541</td>\n",
       "      <td>0.107577</td>\n",
       "      <td>Monday</td>\n",
       "    </tr>\n",
       "    <tr>\n",
       "      <th>502</th>\n",
       "      <td>1963-12-31</td>\n",
       "      <td>0.101476</td>\n",
       "      <td>0.096980</td>\n",
       "      <td>0.097622</td>\n",
       "      <td>0.101476</td>\n",
       "      <td>Tuesday</td>\n",
       "    </tr>\n",
       "    <tr>\n",
       "      <th>564</th>\n",
       "      <td>1964-03-31</td>\n",
       "      <td>0.115605</td>\n",
       "      <td>0.112394</td>\n",
       "      <td>0.114963</td>\n",
       "      <td>0.112394</td>\n",
       "      <td>Tuesday</td>\n",
       "    </tr>\n",
       "    <tr>\n",
       "      <th>628</th>\n",
       "      <td>1964-06-30</td>\n",
       "      <td>0.101476</td>\n",
       "      <td>0.100191</td>\n",
       "      <td>0.101476</td>\n",
       "      <td>0.100834</td>\n",
       "      <td>Tuesday</td>\n",
       "    </tr>\n",
       "  </tbody>\n",
       "</table>\n",
       "</div>"
      ],
      "text/plain": [
       "          Date      High       Low      Open     Close Day of Week\n",
       "251 1962-12-31  0.074501  0.071290  0.074501  0.072253      Monday\n",
       "440 1963-09-30  0.109825  0.105972  0.108541  0.107577      Monday\n",
       "502 1963-12-31  0.101476  0.096980  0.097622  0.101476     Tuesday\n",
       "564 1964-03-31  0.115605  0.112394  0.114963  0.112394     Tuesday\n",
       "628 1964-06-30  0.101476  0.100191  0.101476  0.100834     Tuesday"
      ]
     },
     "execution_count": 54,
     "metadata": {},
     "output_type": "execute_result"
    }
   ],
   "source": [
    "#is_quarter_end 속성: 행의 날짜가 분기의 마지막 날짜와 같은지 여부->불리언\n",
    "#반환 값을 이용하여 행 추출\n",
    "disney[disney[\"Date\"].dt.is_quarter_end].head()"
   ]
  },
  {
   "cell_type": "code",
   "execution_count": 55,
   "id": "ed35d2a1",
   "metadata": {},
   "outputs": [
    {
     "data": {
      "text/html": [
       "<div>\n",
       "<style scoped>\n",
       "    .dataframe tbody tr th:only-of-type {\n",
       "        vertical-align: middle;\n",
       "    }\n",
       "\n",
       "    .dataframe tbody tr th {\n",
       "        vertical-align: top;\n",
       "    }\n",
       "\n",
       "    .dataframe thead th {\n",
       "        text-align: right;\n",
       "    }\n",
       "</style>\n",
       "<table border=\"1\" class=\"dataframe\">\n",
       "  <thead>\n",
       "    <tr style=\"text-align: right;\">\n",
       "      <th></th>\n",
       "      <th>Date</th>\n",
       "      <th>High</th>\n",
       "      <th>Low</th>\n",
       "      <th>Open</th>\n",
       "      <th>Close</th>\n",
       "      <th>Day of Week</th>\n",
       "    </tr>\n",
       "  </thead>\n",
       "  <tbody>\n",
       "    <tr>\n",
       "      <th>22</th>\n",
       "      <td>1962-02-01</td>\n",
       "      <td>0.096338</td>\n",
       "      <td>0.093532</td>\n",
       "      <td>0.093532</td>\n",
       "      <td>0.094779</td>\n",
       "      <td>Thursday</td>\n",
       "    </tr>\n",
       "    <tr>\n",
       "      <th>41</th>\n",
       "      <td>1962-03-01</td>\n",
       "      <td>0.095714</td>\n",
       "      <td>0.093532</td>\n",
       "      <td>0.093532</td>\n",
       "      <td>0.095714</td>\n",
       "      <td>Thursday</td>\n",
       "    </tr>\n",
       "    <tr>\n",
       "      <th>83</th>\n",
       "      <td>1962-05-01</td>\n",
       "      <td>0.087296</td>\n",
       "      <td>0.085426</td>\n",
       "      <td>0.085738</td>\n",
       "      <td>0.086673</td>\n",
       "      <td>Tuesday</td>\n",
       "    </tr>\n",
       "    <tr>\n",
       "      <th>105</th>\n",
       "      <td>1962-06-01</td>\n",
       "      <td>0.079814</td>\n",
       "      <td>0.077943</td>\n",
       "      <td>0.079814</td>\n",
       "      <td>0.079814</td>\n",
       "      <td>Friday</td>\n",
       "    </tr>\n",
       "    <tr>\n",
       "      <th>147</th>\n",
       "      <td>1962-08-01</td>\n",
       "      <td>0.068590</td>\n",
       "      <td>0.068278</td>\n",
       "      <td>0.068590</td>\n",
       "      <td>0.068590</td>\n",
       "      <td>Wednesday</td>\n",
       "    </tr>\n",
       "  </tbody>\n",
       "</table>\n",
       "</div>"
      ],
      "text/plain": [
       "          Date      High       Low      Open     Close Day of Week\n",
       "22  1962-02-01  0.096338  0.093532  0.093532  0.094779    Thursday\n",
       "41  1962-03-01  0.095714  0.093532  0.093532  0.095714    Thursday\n",
       "83  1962-05-01  0.087296  0.085426  0.085738  0.086673     Tuesday\n",
       "105 1962-06-01  0.079814  0.077943  0.079814  0.079814      Friday\n",
       "147 1962-08-01  0.068590  0.068278  0.068590  0.068590   Wednesday"
      ]
     },
     "execution_count": 55,
     "metadata": {},
     "output_type": "execute_result"
    }
   ],
   "source": [
    "#is_month_start, is_month_end 속성: 날짜의 월의 시작/끝인지 확인\n",
    "disney[disney[\"Date\"].dt.is_month_start].head()"
   ]
  },
  {
   "cell_type": "code",
   "execution_count": 56,
   "id": "4060a7a5",
   "metadata": {},
   "outputs": [
    {
     "data": {
      "text/html": [
       "<div>\n",
       "<style scoped>\n",
       "    .dataframe tbody tr th:only-of-type {\n",
       "        vertical-align: middle;\n",
       "    }\n",
       "\n",
       "    .dataframe tbody tr th {\n",
       "        vertical-align: top;\n",
       "    }\n",
       "\n",
       "    .dataframe thead th {\n",
       "        text-align: right;\n",
       "    }\n",
       "</style>\n",
       "<table border=\"1\" class=\"dataframe\">\n",
       "  <thead>\n",
       "    <tr style=\"text-align: right;\">\n",
       "      <th></th>\n",
       "      <th>Date</th>\n",
       "      <th>High</th>\n",
       "      <th>Low</th>\n",
       "      <th>Open</th>\n",
       "      <th>Close</th>\n",
       "      <th>Day of Week</th>\n",
       "    </tr>\n",
       "  </thead>\n",
       "  <tbody>\n",
       "    <tr>\n",
       "      <th>21</th>\n",
       "      <td>1962-01-31</td>\n",
       "      <td>0.093844</td>\n",
       "      <td>0.092908</td>\n",
       "      <td>0.093532</td>\n",
       "      <td>0.093532</td>\n",
       "      <td>Wednesday</td>\n",
       "    </tr>\n",
       "    <tr>\n",
       "      <th>40</th>\n",
       "      <td>1962-02-28</td>\n",
       "      <td>0.094779</td>\n",
       "      <td>0.093220</td>\n",
       "      <td>0.094155</td>\n",
       "      <td>0.093220</td>\n",
       "      <td>Wednesday</td>\n",
       "    </tr>\n",
       "    <tr>\n",
       "      <th>82</th>\n",
       "      <td>1962-04-30</td>\n",
       "      <td>0.087608</td>\n",
       "      <td>0.085738</td>\n",
       "      <td>0.087608</td>\n",
       "      <td>0.085738</td>\n",
       "      <td>Monday</td>\n",
       "    </tr>\n",
       "    <tr>\n",
       "      <th>104</th>\n",
       "      <td>1962-05-31</td>\n",
       "      <td>0.082308</td>\n",
       "      <td>0.079814</td>\n",
       "      <td>0.079814</td>\n",
       "      <td>0.079814</td>\n",
       "      <td>Thursday</td>\n",
       "    </tr>\n",
       "    <tr>\n",
       "      <th>146</th>\n",
       "      <td>1962-07-31</td>\n",
       "      <td>0.069214</td>\n",
       "      <td>0.068278</td>\n",
       "      <td>0.068278</td>\n",
       "      <td>0.068590</td>\n",
       "      <td>Tuesday</td>\n",
       "    </tr>\n",
       "  </tbody>\n",
       "</table>\n",
       "</div>"
      ],
      "text/plain": [
       "          Date      High       Low      Open     Close Day of Week\n",
       "21  1962-01-31  0.093844  0.092908  0.093532  0.093532   Wednesday\n",
       "40  1962-02-28  0.094779  0.093220  0.094155  0.093220   Wednesday\n",
       "82  1962-04-30  0.087608  0.085738  0.087608  0.085738      Monday\n",
       "104 1962-05-31  0.082308  0.079814  0.079814  0.079814    Thursday\n",
       "146 1962-07-31  0.069214  0.068278  0.068278  0.068590     Tuesday"
      ]
     },
     "execution_count": 56,
     "metadata": {},
     "output_type": "execute_result"
    }
   ],
   "source": [
    "disney[disney[\"Date\"].dt.is_month_end].head()"
   ]
  },
  {
   "cell_type": "code",
   "execution_count": 57,
   "id": "457065e2",
   "metadata": {},
   "outputs": [
    {
     "data": {
      "text/html": [
       "<div>\n",
       "<style scoped>\n",
       "    .dataframe tbody tr th:only-of-type {\n",
       "        vertical-align: middle;\n",
       "    }\n",
       "\n",
       "    .dataframe tbody tr th {\n",
       "        vertical-align: top;\n",
       "    }\n",
       "\n",
       "    .dataframe thead th {\n",
       "        text-align: right;\n",
       "    }\n",
       "</style>\n",
       "<table border=\"1\" class=\"dataframe\">\n",
       "  <thead>\n",
       "    <tr style=\"text-align: right;\">\n",
       "      <th></th>\n",
       "      <th>Date</th>\n",
       "      <th>High</th>\n",
       "      <th>Low</th>\n",
       "      <th>Open</th>\n",
       "      <th>Close</th>\n",
       "      <th>Day of Week</th>\n",
       "    </tr>\n",
       "  </thead>\n",
       "  <tbody>\n",
       "    <tr>\n",
       "      <th>251</th>\n",
       "      <td>1962-12-31</td>\n",
       "      <td>0.074501</td>\n",
       "      <td>0.071290</td>\n",
       "      <td>0.074501</td>\n",
       "      <td>0.072253</td>\n",
       "      <td>Monday</td>\n",
       "    </tr>\n",
       "    <tr>\n",
       "      <th>502</th>\n",
       "      <td>1963-12-31</td>\n",
       "      <td>0.101476</td>\n",
       "      <td>0.096980</td>\n",
       "      <td>0.097622</td>\n",
       "      <td>0.101476</td>\n",
       "      <td>Tuesday</td>\n",
       "    </tr>\n",
       "    <tr>\n",
       "      <th>755</th>\n",
       "      <td>1964-12-31</td>\n",
       "      <td>0.117853</td>\n",
       "      <td>0.116890</td>\n",
       "      <td>0.116890</td>\n",
       "      <td>0.116890</td>\n",
       "      <td>Thursday</td>\n",
       "    </tr>\n",
       "    <tr>\n",
       "      <th>1007</th>\n",
       "      <td>1965-12-31</td>\n",
       "      <td>0.154141</td>\n",
       "      <td>0.150929</td>\n",
       "      <td>0.153498</td>\n",
       "      <td>0.152214</td>\n",
       "      <td>Friday</td>\n",
       "    </tr>\n",
       "    <tr>\n",
       "      <th>1736</th>\n",
       "      <td>1968-12-31</td>\n",
       "      <td>0.439301</td>\n",
       "      <td>0.431594</td>\n",
       "      <td>0.434163</td>\n",
       "      <td>0.436732</td>\n",
       "      <td>Tuesday</td>\n",
       "    </tr>\n",
       "  </tbody>\n",
       "</table>\n",
       "</div>"
      ],
      "text/plain": [
       "           Date      High       Low      Open     Close Day of Week\n",
       "251  1962-12-31  0.074501  0.071290  0.074501  0.072253      Monday\n",
       "502  1963-12-31  0.101476  0.096980  0.097622  0.101476     Tuesday\n",
       "755  1964-12-31  0.117853  0.116890  0.116890  0.116890    Thursday\n",
       "1007 1965-12-31  0.154141  0.150929  0.153498  0.152214      Friday\n",
       "1736 1968-12-31  0.439301  0.431594  0.434163  0.436732     Tuesday"
      ]
     },
     "execution_count": 57,
     "metadata": {},
     "output_type": "execute_result"
    }
   ],
   "source": [
    "#is_year_start 속성: 날짜가 연도의 첫날인지 확인\n",
    "disney[disney[\"Date\"].dt.is_year_end].head()"
   ]
  },
  {
   "cell_type": "code",
   "execution_count": 58,
   "id": "e890ac84",
   "metadata": {},
   "outputs": [
    {
     "data": {
      "text/html": [
       "<div>\n",
       "<style scoped>\n",
       "    .dataframe tbody tr th:only-of-type {\n",
       "        vertical-align: middle;\n",
       "    }\n",
       "\n",
       "    .dataframe tbody tr th {\n",
       "        vertical-align: top;\n",
       "    }\n",
       "\n",
       "    .dataframe thead th {\n",
       "        text-align: right;\n",
       "    }\n",
       "</style>\n",
       "<table border=\"1\" class=\"dataframe\">\n",
       "  <thead>\n",
       "    <tr style=\"text-align: right;\">\n",
       "      <th></th>\n",
       "      <th>Date</th>\n",
       "      <th>High</th>\n",
       "      <th>Low</th>\n",
       "      <th>Open</th>\n",
       "      <th>Close</th>\n",
       "      <th>Day of Week</th>\n",
       "    </tr>\n",
       "  </thead>\n",
       "  <tbody>\n",
       "    <tr>\n",
       "      <th>251</th>\n",
       "      <td>1962-12-31</td>\n",
       "      <td>0.074501</td>\n",
       "      <td>0.071290</td>\n",
       "      <td>0.074501</td>\n",
       "      <td>0.072253</td>\n",
       "      <td>Monday</td>\n",
       "    </tr>\n",
       "    <tr>\n",
       "      <th>502</th>\n",
       "      <td>1963-12-31</td>\n",
       "      <td>0.101476</td>\n",
       "      <td>0.096980</td>\n",
       "      <td>0.097622</td>\n",
       "      <td>0.101476</td>\n",
       "      <td>Tuesday</td>\n",
       "    </tr>\n",
       "    <tr>\n",
       "      <th>755</th>\n",
       "      <td>1964-12-31</td>\n",
       "      <td>0.117853</td>\n",
       "      <td>0.116890</td>\n",
       "      <td>0.116890</td>\n",
       "      <td>0.116890</td>\n",
       "      <td>Thursday</td>\n",
       "    </tr>\n",
       "    <tr>\n",
       "      <th>1007</th>\n",
       "      <td>1965-12-31</td>\n",
       "      <td>0.154141</td>\n",
       "      <td>0.150929</td>\n",
       "      <td>0.153498</td>\n",
       "      <td>0.152214</td>\n",
       "      <td>Friday</td>\n",
       "    </tr>\n",
       "    <tr>\n",
       "      <th>1736</th>\n",
       "      <td>1968-12-31</td>\n",
       "      <td>0.439301</td>\n",
       "      <td>0.431594</td>\n",
       "      <td>0.434163</td>\n",
       "      <td>0.436732</td>\n",
       "      <td>Tuesday</td>\n",
       "    </tr>\n",
       "  </tbody>\n",
       "</table>\n",
       "</div>"
      ],
      "text/plain": [
       "           Date      High       Low      Open     Close Day of Week\n",
       "251  1962-12-31  0.074501  0.071290  0.074501  0.072253      Monday\n",
       "502  1963-12-31  0.101476  0.096980  0.097622  0.101476     Tuesday\n",
       "755  1964-12-31  0.117853  0.116890  0.116890  0.116890    Thursday\n",
       "1007 1965-12-31  0.154141  0.150929  0.153498  0.152214      Friday\n",
       "1736 1968-12-31  0.439301  0.431594  0.434163  0.436732     Tuesday"
      ]
     },
     "execution_count": 58,
     "metadata": {},
     "output_type": "execute_result"
    }
   ],
   "source": [
    "#is_year_end 속성: 날짜가 연도의 마지막 날인지 확인\n",
    "disney[disney[\"Date\"].dt.is_year_end].head()"
   ]
  },
  {
   "cell_type": "markdown",
   "id": "e6c0eb3e",
   "metadata": {},
   "source": [
    "# 일정 시간의 덧셈과 뺄셈"
   ]
  },
  {
   "cell_type": "code",
   "execution_count": 59,
   "id": "03fdf9d6",
   "metadata": {},
   "outputs": [
    {
     "data": {
      "text/plain": [
       "<DateOffset: days=5, months=4, years=3>"
      ]
     },
     "execution_count": 59,
     "metadata": {},
     "output_type": "execute_result"
    }
   ],
   "source": [
    "#DateOffset 객체를 사용하여 일관된 시간을 더하거나 뺄 수 있음\n",
    "#판다스의 최상위 수준에서 사용, 매개변수 허용\n",
    "pd.DateOffset(years = 3, months = 4, days = 5)"
   ]
  },
  {
   "cell_type": "code",
   "execution_count": 60,
   "id": "64b7ea90",
   "metadata": {},
   "outputs": [
    {
     "data": {
      "text/plain": [
       "0   1962-01-02\n",
       "1   1962-01-03\n",
       "2   1962-01-04\n",
       "3   1962-01-05\n",
       "4   1962-01-08\n",
       "Name: Date, dtype: datetime64[ns]"
      ]
     },
     "execution_count": 60,
     "metadata": {},
     "output_type": "execute_result"
    }
   ],
   "source": [
    "disney[\"Date\"].head()"
   ]
  },
  {
   "cell_type": "code",
   "execution_count": 61,
   "id": "00e57633",
   "metadata": {},
   "outputs": [
    {
     "data": {
      "text/plain": [
       "0   1962-01-07\n",
       "1   1962-01-08\n",
       "2   1962-01-09\n",
       "3   1962-01-10\n",
       "4   1962-01-13\n",
       "Name: Date, dtype: datetime64[ns]"
      ]
     },
     "execution_count": 61,
     "metadata": {},
     "output_type": "execute_result"
    }
   ],
   "source": [
    "#날짜/시간 Series의 각 날짜에 일관된 시간을 추가 (앞으로 이동)\n",
    "(disney[\"Date\"] + pd.DateOffset(days = 5)).head()"
   ]
  },
  {
   "cell_type": "code",
   "execution_count": 62,
   "id": "595c8c9c",
   "metadata": {},
   "outputs": [
    {
     "data": {
      "text/plain": [
       "0   1961-12-30\n",
       "1   1961-12-31\n",
       "2   1962-01-01\n",
       "3   1962-01-02\n",
       "4   1962-01-05\n",
       "Name: Date, dtype: datetime64[ns]"
      ]
     },
     "execution_count": 62,
     "metadata": {},
     "output_type": "execute_result"
    }
   ],
   "source": [
    "#날짜/시간 Series의 각 날짜에 일관된 시간을 빼기 (미래로 이동)\n",
    "(disney[\"Date\"] - pd.DateOffset(days = 3)).head()"
   ]
  },
  {
   "cell_type": "code",
   "execution_count": 63,
   "id": "3e7dfed5",
   "metadata": {},
   "outputs": [
    {
     "data": {
      "text/plain": [
       "0   1962-01-12 06:00:00\n",
       "1   1962-01-13 06:00:00\n",
       "2   1962-01-14 06:00:00\n",
       "3   1962-01-15 06:00:00\n",
       "4   1962-01-18 06:00:00\n",
       "Name: Date, dtype: datetime64[ns]"
      ]
     },
     "execution_count": 63,
     "metadata": {},
     "output_type": "execute_result"
    }
   ],
   "source": [
    "#Timestamp 객체는 내부적으로 시간도 저장(기본값=자정)\n",
    "(disney[\"Date\"] + pd.DateOffset(days = 10, hours = 6)).head()"
   ]
  },
  {
   "cell_type": "code",
   "execution_count": 64,
   "id": "07873d66",
   "metadata": {},
   "outputs": [
    {
     "data": {
      "text/plain": [
       "0   1960-09-21 17:57:00\n",
       "1   1960-09-22 17:57:00\n",
       "2   1960-09-23 17:57:00\n",
       "3   1960-09-24 17:57:00\n",
       "4   1960-09-27 17:57:00\n",
       "Name: Date, dtype: datetime64[ns]"
      ]
     },
     "execution_count": 64,
     "metadata": {},
     "output_type": "execute_result"
    }
   ],
   "source": [
    "(\n",
    "    disney[\"Date\"]\n",
    "    - pd.DateOffset(\n",
    "        years = 1, months = 3, days = 10, hours = 6, minutes = 3\n",
    "    )\n",
    ").head()"
   ]
  },
  {
   "cell_type": "markdown",
   "id": "a3a317ac",
   "metadata": {},
   "source": [
    "# 날짜 오프셋\n",
    "- DateOffset 객체는 각 날짜에 일정한 시간을 더하거나 뺄 때 유용\n",
    "- 실제 데이터 분석 시 정해진 값으로 계산하는 일보다 동적으로 값을 계산하는 경우가 더 많음 -> 시간 기반의 계산을 동적으로 하기 위해 제공하는 여러 오프셋 객체\n",
    "  - offset.py 모듈에 정의, pd.offsets를 접두사로 붙이기"
   ]
  },
  {
   "cell_type": "code",
   "execution_count": 65,
   "id": "f7c2a55c",
   "metadata": {},
   "outputs": [
    {
     "data": {
      "text/plain": [
       "14722   2020-06-30\n",
       "14723   2020-06-30\n",
       "14724   2020-07-31\n",
       "14725   2020-07-31\n",
       "14726   2020-07-31\n",
       "Name: Date, dtype: datetime64[ns]"
      ]
     },
     "execution_count": 65,
     "metadata": {},
     "output_type": "execute_result"
    }
   ],
   "source": [
    "#MonthEnd 오프셋을 사용하여 날짜를 말일로 옮기기\n",
    "#더하기 기호 = 시간을 앞으로 이동\n",
    "#모든 날짜는 의도한 방향으로 최소한 하루 이상씩은 움직여야함\n",
    "(disney[\"Date\"] + pd.offsets.MonthEnd()).tail()"
   ]
  },
  {
   "cell_type": "code",
   "execution_count": 66,
   "id": "9713261f",
   "metadata": {},
   "outputs": [
    {
     "data": {
      "text/plain": [
       "14722   2020-05-31\n",
       "14723   2020-05-31\n",
       "14724   2020-05-31\n",
       "14725   2020-06-30\n",
       "14726   2020-06-30\n",
       "Name: Date, dtype: datetime64[ns]"
      ]
     },
     "execution_count": 66,
     "metadata": {},
     "output_type": "execute_result"
    }
   ],
   "source": [
    "#빼기 기호 = 각 날짜를 시간상 뒤로 이동\n",
    "(disney[\"Date\"] - pd.offsets.MonthEnd()).tail()"
   ]
  },
  {
   "cell_type": "code",
   "execution_count": 67,
   "id": "371a3d84",
   "metadata": {},
   "outputs": [
    {
     "data": {
      "text/plain": [
       "14722   2020-07-01\n",
       "14723   2020-07-01\n",
       "14724   2020-07-01\n",
       "14725   2020-08-01\n",
       "14726   2020-08-01\n",
       "Name: Date, dtype: datetime64[ns]"
      ]
     },
     "execution_count": 67,
     "metadata": {},
     "output_type": "execute_result"
    }
   ],
   "source": [
    "#MonthBegin 오프셋: 월의 첫번째 날짜로 옮기기\n",
    "(disney[\"Date\"] + pd.offsets.MonthBegin()).tail()"
   ]
  },
  {
   "cell_type": "code",
   "execution_count": 68,
   "id": "cbb3414b",
   "metadata": {},
   "outputs": [
    {
     "data": {
      "text/plain": [
       "14722   2020-06-01\n",
       "14723   2020-06-01\n",
       "14724   2020-06-01\n",
       "14725   2020-06-01\n",
       "14726   2020-07-01\n",
       "Name: Date, dtype: datetime64[ns]"
      ]
     },
     "execution_count": 68,
     "metadata": {},
     "output_type": "execute_result"
    }
   ],
   "source": [
    "(disney[\"Date\"] - pd.offsets.MonthBegin()).tail()"
   ]
  },
  {
   "cell_type": "code",
   "execution_count": 69,
   "id": "14c993e3",
   "metadata": {},
   "outputs": [
    {
     "data": {
      "text/plain": [
       "0   2020-05-28\n",
       "1   2020-05-29\n",
       "2   2020-05-30\n",
       "dtype: datetime64[ns]"
      ]
     },
     "execution_count": 69,
     "metadata": {},
     "output_type": "execute_result"
    }
   ],
   "source": [
    "#비즈니스와 관련된 시간을 계산할 때 사용하는 특별한 오프셋 그룹 -B로 시작\n",
    "may_dates = [\"2020-05-28\", \"2020-05-29\", \"2020-05-30\"]\n",
    "end_of_may = pd.Series(pd.to_datetime(may_dates))\n",
    "end_of_may"
   ]
  },
  {
   "cell_type": "code",
   "execution_count": 70,
   "id": "74a770d6",
   "metadata": {},
   "outputs": [
    {
     "data": {
      "text/plain": [
       "0   2020-05-31\n",
       "1   2020-05-31\n",
       "2   2020-05-31\n",
       "dtype: datetime64[ns]"
      ]
     },
     "execution_count": 70,
     "metadata": {},
     "output_type": "execute_result"
    }
   ],
   "source": [
    "end_of_may + pd.offsets.MonthEnd()"
   ]
  },
  {
   "cell_type": "code",
   "execution_count": 71,
   "id": "cc320cdf",
   "metadata": {},
   "outputs": [
    {
     "data": {
      "text/plain": [
       "0   2020-05-29\n",
       "1   2020-06-30\n",
       "2   2020-06-30\n",
       "dtype: datetime64[ns]"
      ]
     },
     "execution_count": 71,
     "metadata": {},
     "output_type": "execute_result"
    }
   ],
   "source": [
    "#BMonthEnd 오프셋: 마지막 영업일로 옮기기\n",
    "end_of_may + pd.offsets.BMonthEnd()"
   ]
  },
  {
   "cell_type": "markdown",
   "id": "693abded",
   "metadata": {},
   "source": [
    "- pd.offsets 모듈은 분기, 사업분기, 연도, 사업 연도 등의 시작과 끝으로 날짜를 올리거나 내리는 다양한 오프셋을 제공"
   ]
  },
  {
   "cell_type": "markdown",
   "id": "d9a29570",
   "metadata": {},
   "source": [
    "# Timedelta 객체\n",
    "- 파이썬의 기본 timedelta 객체는 시간차를 모델링.\n",
    "- 판다스는 자체 Timedelta 객체를 사용하여 시간차를 모델링\n",
    "- Timedelta 생성자는 판다스의 최상위 수준에서 사용가능\n",
    "  - days, hours, minutes, seconds와 같은 시간 단위에 대한 키워드 매개변수를 허용"
   ]
  },
  {
   "cell_type": "code",
   "execution_count": 72,
   "id": "cb0d688c",
   "metadata": {},
   "outputs": [
    {
     "data": {
      "text/plain": [
       "Timedelta('8 days 07:06:05')"
      ]
     },
     "execution_count": 72,
     "metadata": {},
     "output_type": "execute_result"
    }
   ],
   "source": [
    "duration = pd.Timedelta(\n",
    "    days = 8,\n",
    "    hours = 7,\n",
    "    minutes = 6,\n",
    "    seconds = 5\n",
    ")\n",
    "duration"
   ]
  },
  {
   "cell_type": "code",
   "execution_count": 73,
   "id": "02cf1aa6",
   "metadata": {},
   "outputs": [
    {
     "data": {
      "text/plain": [
       "Timedelta('0 days 03:05:12')"
      ]
     },
     "execution_count": 73,
     "metadata": {},
     "output_type": "execute_result"
    }
   ],
   "source": [
    "#to_timedelta 함수: 인수를 Timedelta 객체로 변환\n",
    "#판다스의 최상위 수준에 있음\n",
    "pd.to_timedelta(\"3 hours, 5 minutes, 12 seconds\")"
   ]
  },
  {
   "cell_type": "code",
   "execution_count": 74,
   "id": "7e59f123",
   "metadata": {},
   "outputs": [
    {
     "data": {
      "text/plain": [
       "Timedelta('0 days 05:00:00')"
      ]
     },
     "execution_count": 74,
     "metadata": {},
     "output_type": "execute_result"
    }
   ],
   "source": [
    "#unit 매개변수: 숫자가 나타내는 시간 단위를 정의(정수를 전달)\n",
    "pd.to_timedelta(5, unit = \"hour\")"
   ]
  },
  {
   "cell_type": "code",
   "execution_count": 75,
   "id": "0503102f",
   "metadata": {},
   "outputs": [
    {
     "data": {
      "text/plain": [
       "TimedeltaIndex(['5 days', '10 days', '15 days'], dtype='timedelta64[ns]', freq=None)"
      ]
     },
     "execution_count": 75,
     "metadata": {},
     "output_type": "execute_result"
    }
   ],
   "source": [
    "#반복 가능한 객체를 전달하여 해당 값을 Timedelta로 변환 가능\n",
    "pd.to_timedelta([5, 10, 15], unit = \"day\")"
   ]
  },
  {
   "cell_type": "code",
   "execution_count": 76,
   "id": "52c8f192",
   "metadata": {},
   "outputs": [
    {
     "data": {
      "text/plain": [
       "Timedelta('-3030 days +00:00:00')"
      ]
     },
     "execution_count": 76,
     "metadata": {},
     "output_type": "execute_result"
    }
   ],
   "source": [
    "#Timedelta 객체는 처음부터 생성되는 경우보다 파생되는 경우가 많음\n",
    "#Timestamp에서 다른 Timestamp를 빼면 자동으로 Timedelta 반환\n",
    "pd.Timestamp(\"1990-02-05\") - pd.Timestamp(\"1998-05-24\")"
   ]
  },
  {
   "cell_type": "code",
   "execution_count": 77,
   "id": "844fbb37",
   "metadata": {},
   "outputs": [
    {
     "data": {
      "text/html": [
       "<div>\n",
       "<style scoped>\n",
       "    .dataframe tbody tr th:only-of-type {\n",
       "        vertical-align: middle;\n",
       "    }\n",
       "\n",
       "    .dataframe tbody tr th {\n",
       "        vertical-align: top;\n",
       "    }\n",
       "\n",
       "    .dataframe thead th {\n",
       "        text-align: right;\n",
       "    }\n",
       "</style>\n",
       "<table border=\"1\" class=\"dataframe\">\n",
       "  <thead>\n",
       "    <tr style=\"text-align: right;\">\n",
       "      <th></th>\n",
       "      <th>order_date</th>\n",
       "      <th>delivery_date</th>\n",
       "    </tr>\n",
       "  </thead>\n",
       "  <tbody>\n",
       "    <tr>\n",
       "      <th>0</th>\n",
       "      <td>5/24/98</td>\n",
       "      <td>2/5/99</td>\n",
       "    </tr>\n",
       "    <tr>\n",
       "      <th>1</th>\n",
       "      <td>4/22/92</td>\n",
       "      <td>3/6/98</td>\n",
       "    </tr>\n",
       "    <tr>\n",
       "      <th>2</th>\n",
       "      <td>2/10/91</td>\n",
       "      <td>8/26/92</td>\n",
       "    </tr>\n",
       "    <tr>\n",
       "      <th>3</th>\n",
       "      <td>7/21/92</td>\n",
       "      <td>11/20/97</td>\n",
       "    </tr>\n",
       "    <tr>\n",
       "      <th>4</th>\n",
       "      <td>9/2/93</td>\n",
       "      <td>6/10/98</td>\n",
       "    </tr>\n",
       "  </tbody>\n",
       "</table>\n",
       "</div>"
      ],
      "text/plain": [
       "  order_date delivery_date\n",
       "0    5/24/98        2/5/99\n",
       "1    4/22/92        3/6/98\n",
       "2    2/10/91       8/26/92\n",
       "3    7/21/92      11/20/97\n",
       "4     9/2/93       6/10/98"
      ]
     },
     "execution_count": 77,
     "metadata": {},
     "output_type": "execute_result"
    }
   ],
   "source": [
    "deliveries = pd.read_csv(\"deliveries.csv\")\n",
    "deliveries.head()"
   ]
  },
  {
   "cell_type": "code",
   "execution_count": 78,
   "id": "daa3f4d7",
   "metadata": {},
   "outputs": [],
   "source": [
    "#두 열의 값을 날짜/시간으로 변환하는 또 다른 방법\n",
    "deliveries[\"order_date\"] = pd.to_datetime(\n",
    "    deliveries[\"order_date\"]\n",
    ")\n",
    "deliveries[\"delivery_date\"] = pd.to_datetime(\n",
    "    deliveries[\"delivery_date\"]\n",
    ")"
   ]
  },
  {
   "cell_type": "code",
   "execution_count": 79,
   "id": "9aa391d1",
   "metadata": {},
   "outputs": [],
   "source": [
    "#위의 방법을 for문을 사용한 순회로 확장\n",
    "for column in [\"order_date\", \"delivery_date\"]:\n",
    "    deliveries[column] = pd.to_datetime(deliveries[column])"
   ]
  },
  {
   "cell_type": "code",
   "execution_count": 80,
   "id": "b23f7927",
   "metadata": {},
   "outputs": [
    {
     "data": {
      "text/html": [
       "<div>\n",
       "<style scoped>\n",
       "    .dataframe tbody tr th:only-of-type {\n",
       "        vertical-align: middle;\n",
       "    }\n",
       "\n",
       "    .dataframe tbody tr th {\n",
       "        vertical-align: top;\n",
       "    }\n",
       "\n",
       "    .dataframe thead th {\n",
       "        text-align: right;\n",
       "    }\n",
       "</style>\n",
       "<table border=\"1\" class=\"dataframe\">\n",
       "  <thead>\n",
       "    <tr style=\"text-align: right;\">\n",
       "      <th></th>\n",
       "      <th>order_date</th>\n",
       "      <th>delivery_date</th>\n",
       "    </tr>\n",
       "  </thead>\n",
       "  <tbody>\n",
       "    <tr>\n",
       "      <th>0</th>\n",
       "      <td>1998-05-24</td>\n",
       "      <td>1999-02-05</td>\n",
       "    </tr>\n",
       "    <tr>\n",
       "      <th>1</th>\n",
       "      <td>1992-04-22</td>\n",
       "      <td>1998-03-06</td>\n",
       "    </tr>\n",
       "    <tr>\n",
       "      <th>2</th>\n",
       "      <td>1991-02-10</td>\n",
       "      <td>1992-08-26</td>\n",
       "    </tr>\n",
       "    <tr>\n",
       "      <th>3</th>\n",
       "      <td>1992-07-21</td>\n",
       "      <td>1997-11-20</td>\n",
       "    </tr>\n",
       "    <tr>\n",
       "      <th>4</th>\n",
       "      <td>1993-09-02</td>\n",
       "      <td>1998-06-10</td>\n",
       "    </tr>\n",
       "  </tbody>\n",
       "</table>\n",
       "</div>"
      ],
      "text/plain": [
       "  order_date delivery_date\n",
       "0 1998-05-24    1999-02-05\n",
       "1 1992-04-22    1998-03-06\n",
       "2 1991-02-10    1992-08-26\n",
       "3 1992-07-21    1997-11-20\n",
       "4 1993-09-02    1998-06-10"
      ]
     },
     "execution_count": 80,
     "metadata": {},
     "output_type": "execute_result"
    }
   ],
   "source": [
    "deliveries.head()"
   ]
  },
  {
   "cell_type": "code",
   "execution_count": 81,
   "id": "dadbcb5b",
   "metadata": {},
   "outputs": [
    {
     "data": {
      "text/plain": [
       "0    257 days\n",
       "1   2144 days\n",
       "2    563 days\n",
       "3   1948 days\n",
       "4   1742 days\n",
       "dtype: timedelta64[ns]"
      ]
     },
     "execution_count": 81,
     "metadata": {},
     "output_type": "execute_result"
    }
   ],
   "source": [
    "#Timestamp끼리 뺌 -> 판다스는 timedelta Series를 반환\n",
    "(deliveries[\"delivery_date\"] - deliveries[\"order_date\"]).head()"
   ]
  },
  {
   "cell_type": "code",
   "execution_count": 82,
   "id": "32675ea4",
   "metadata": {},
   "outputs": [
    {
     "data": {
      "text/html": [
       "<div>\n",
       "<style scoped>\n",
       "    .dataframe tbody tr th:only-of-type {\n",
       "        vertical-align: middle;\n",
       "    }\n",
       "\n",
       "    .dataframe tbody tr th {\n",
       "        vertical-align: top;\n",
       "    }\n",
       "\n",
       "    .dataframe thead th {\n",
       "        text-align: right;\n",
       "    }\n",
       "</style>\n",
       "<table border=\"1\" class=\"dataframe\">\n",
       "  <thead>\n",
       "    <tr style=\"text-align: right;\">\n",
       "      <th></th>\n",
       "      <th>order_date</th>\n",
       "      <th>delivery_date</th>\n",
       "      <th>duration</th>\n",
       "    </tr>\n",
       "  </thead>\n",
       "  <tbody>\n",
       "    <tr>\n",
       "      <th>0</th>\n",
       "      <td>1998-05-24</td>\n",
       "      <td>1999-02-05</td>\n",
       "      <td>257 days</td>\n",
       "    </tr>\n",
       "    <tr>\n",
       "      <th>1</th>\n",
       "      <td>1992-04-22</td>\n",
       "      <td>1998-03-06</td>\n",
       "      <td>2144 days</td>\n",
       "    </tr>\n",
       "    <tr>\n",
       "      <th>2</th>\n",
       "      <td>1991-02-10</td>\n",
       "      <td>1992-08-26</td>\n",
       "      <td>563 days</td>\n",
       "    </tr>\n",
       "    <tr>\n",
       "      <th>3</th>\n",
       "      <td>1992-07-21</td>\n",
       "      <td>1997-11-20</td>\n",
       "      <td>1948 days</td>\n",
       "    </tr>\n",
       "    <tr>\n",
       "      <th>4</th>\n",
       "      <td>1993-09-02</td>\n",
       "      <td>1998-06-10</td>\n",
       "      <td>1742 days</td>\n",
       "    </tr>\n",
       "  </tbody>\n",
       "</table>\n",
       "</div>"
      ],
      "text/plain": [
       "  order_date delivery_date  duration\n",
       "0 1998-05-24    1999-02-05  257 days\n",
       "1 1992-04-22    1998-03-06 2144 days\n",
       "2 1991-02-10    1992-08-26  563 days\n",
       "3 1992-07-21    1997-11-20 1948 days\n",
       "4 1993-09-02    1998-06-10 1742 days"
      ]
     },
     "execution_count": 82,
     "metadata": {},
     "output_type": "execute_result"
    }
   ],
   "source": [
    "deliveries[\"duration\"] = (\n",
    "    deliveries[\"delivery_date\"] - deliveries[\"order_date\"]\n",
    ")\n",
    "deliveries.head()"
   ]
  },
  {
   "cell_type": "code",
   "execution_count": 83,
   "id": "ba104825",
   "metadata": {},
   "outputs": [
    {
     "data": {
      "text/plain": [
       "order_date        datetime64[ns]\n",
       "delivery_date     datetime64[ns]\n",
       "duration         timedelta64[ns]\n",
       "dtype: object"
      ]
     },
     "execution_count": 83,
     "metadata": {},
     "output_type": "execute_result"
    }
   ],
   "source": [
    "deliveries.dtypes"
   ]
  },
  {
   "cell_type": "code",
   "execution_count": 84,
   "id": "69530ba0",
   "metadata": {},
   "outputs": [
    {
     "data": {
      "text/plain": [
       "0   1998-05-24\n",
       "1   1992-04-22\n",
       "2   1991-02-10\n",
       "3   1992-07-21\n",
       "4   1993-09-02\n",
       "dtype: datetime64[ns]"
      ]
     },
     "execution_count": 84,
     "metadata": {},
     "output_type": "execute_result"
    }
   ],
   "source": [
    "#Timestamp 객체에서 Timedelta를 더하거나 빼기 가능\n",
    "(deliveries[\"delivery_date\"] - deliveries[\"duration\"]).head()"
   ]
  },
  {
   "cell_type": "code",
   "execution_count": 85,
   "id": "ffffc7e9",
   "metadata": {},
   "outputs": [
    {
     "data": {
      "text/plain": [
       "0   1999-10-20\n",
       "1   2004-01-18\n",
       "2   1994-03-12\n",
       "3   2003-03-22\n",
       "4   2003-03-18\n",
       "dtype: datetime64[ns]"
      ]
     },
     "execution_count": 85,
     "metadata": {},
     "output_type": "execute_result"
    }
   ],
   "source": [
    "(deliveries[\"delivery_date\"] + deliveries[\"duration\"]).head()"
   ]
  },
  {
   "cell_type": "code",
   "execution_count": 86,
   "id": "5de2b783",
   "metadata": {},
   "outputs": [
    {
     "data": {
      "text/html": [
       "<div>\n",
       "<style scoped>\n",
       "    .dataframe tbody tr th:only-of-type {\n",
       "        vertical-align: middle;\n",
       "    }\n",
       "\n",
       "    .dataframe tbody tr th {\n",
       "        vertical-align: top;\n",
       "    }\n",
       "\n",
       "    .dataframe thead th {\n",
       "        text-align: right;\n",
       "    }\n",
       "</style>\n",
       "<table border=\"1\" class=\"dataframe\">\n",
       "  <thead>\n",
       "    <tr style=\"text-align: right;\">\n",
       "      <th></th>\n",
       "      <th>order_date</th>\n",
       "      <th>delivery_date</th>\n",
       "      <th>duration</th>\n",
       "    </tr>\n",
       "  </thead>\n",
       "  <tbody>\n",
       "    <tr>\n",
       "      <th>454</th>\n",
       "      <td>1990-05-24</td>\n",
       "      <td>1990-06-01</td>\n",
       "      <td>8 days</td>\n",
       "    </tr>\n",
       "    <tr>\n",
       "      <th>294</th>\n",
       "      <td>1994-08-11</td>\n",
       "      <td>1994-08-20</td>\n",
       "      <td>9 days</td>\n",
       "    </tr>\n",
       "    <tr>\n",
       "      <th>10</th>\n",
       "      <td>1998-05-10</td>\n",
       "      <td>1998-05-19</td>\n",
       "      <td>9 days</td>\n",
       "    </tr>\n",
       "    <tr>\n",
       "      <th>499</th>\n",
       "      <td>1993-06-03</td>\n",
       "      <td>1993-06-13</td>\n",
       "      <td>10 days</td>\n",
       "    </tr>\n",
       "    <tr>\n",
       "      <th>143</th>\n",
       "      <td>1997-09-20</td>\n",
       "      <td>1997-10-06</td>\n",
       "      <td>16 days</td>\n",
       "    </tr>\n",
       "    <tr>\n",
       "      <th>...</th>\n",
       "      <td>...</td>\n",
       "      <td>...</td>\n",
       "      <td>...</td>\n",
       "    </tr>\n",
       "    <tr>\n",
       "      <th>152</th>\n",
       "      <td>1990-09-18</td>\n",
       "      <td>1999-12-19</td>\n",
       "      <td>3379 days</td>\n",
       "    </tr>\n",
       "    <tr>\n",
       "      <th>62</th>\n",
       "      <td>1990-04-02</td>\n",
       "      <td>1999-08-16</td>\n",
       "      <td>3423 days</td>\n",
       "    </tr>\n",
       "    <tr>\n",
       "      <th>458</th>\n",
       "      <td>1990-02-13</td>\n",
       "      <td>1999-11-15</td>\n",
       "      <td>3562 days</td>\n",
       "    </tr>\n",
       "    <tr>\n",
       "      <th>145</th>\n",
       "      <td>1990-03-07</td>\n",
       "      <td>1999-12-25</td>\n",
       "      <td>3580 days</td>\n",
       "    </tr>\n",
       "    <tr>\n",
       "      <th>448</th>\n",
       "      <td>1990-01-20</td>\n",
       "      <td>1999-11-12</td>\n",
       "      <td>3583 days</td>\n",
       "    </tr>\n",
       "  </tbody>\n",
       "</table>\n",
       "<p>501 rows × 3 columns</p>\n",
       "</div>"
      ],
      "text/plain": [
       "    order_date delivery_date  duration\n",
       "454 1990-05-24    1990-06-01    8 days\n",
       "294 1994-08-11    1994-08-20    9 days\n",
       "10  1998-05-10    1998-05-19    9 days\n",
       "499 1993-06-03    1993-06-13   10 days\n",
       "143 1997-09-20    1997-10-06   16 days\n",
       "..         ...           ...       ...\n",
       "152 1990-09-18    1999-12-19 3379 days\n",
       "62  1990-04-02    1999-08-16 3423 days\n",
       "458 1990-02-13    1999-11-15 3562 days\n",
       "145 1990-03-07    1999-12-25 3580 days\n",
       "448 1990-01-20    1999-11-12 3583 days\n",
       "\n",
       "[501 rows x 3 columns]"
      ]
     },
     "execution_count": 86,
     "metadata": {},
     "output_type": "execute_result"
    }
   ],
   "source": [
    "#sort_values 메서드는 Timedelta Series에서 작동\n",
    "deliveries.sort_values(\"duration\")"
   ]
  },
  {
   "cell_type": "code",
   "execution_count": 87,
   "id": "d324fa34",
   "metadata": {},
   "outputs": [
    {
     "data": {
      "text/plain": [
       "Timedelta('3583 days 00:00:00')"
      ]
     },
     "execution_count": 87,
     "metadata": {},
     "output_type": "execute_result"
    }
   ],
   "source": [
    "#Timedelta Series에서 수학 메서드를 사용\n",
    "deliveries[\"duration\"].max()"
   ]
  },
  {
   "cell_type": "code",
   "execution_count": 88,
   "id": "bcbb6182",
   "metadata": {},
   "outputs": [
    {
     "data": {
      "text/plain": [
       "Timedelta('8 days 00:00:00')"
      ]
     },
     "execution_count": 88,
     "metadata": {},
     "output_type": "execute_result"
    }
   ],
   "source": [
    "deliveries[\"duration\"].min()"
   ]
  },
  {
   "cell_type": "code",
   "execution_count": 89,
   "id": "6ea8568b",
   "metadata": {},
   "outputs": [
    {
     "data": {
      "text/plain": [
       "Timedelta('1217 days 22:53:53.532934128')"
      ]
     },
     "execution_count": 89,
     "metadata": {},
     "output_type": "execute_result"
    }
   ],
   "source": [
    "deliveries[\"duration\"].mean()"
   ]
  },
  {
   "cell_type": "code",
   "execution_count": 90,
   "id": "5ac5f666",
   "metadata": {},
   "outputs": [
    {
     "data": {
      "text/plain": [
       "0    False\n",
       "1     True\n",
       "2     True\n",
       "3     True\n",
       "4     True\n",
       "Name: duration, dtype: bool"
      ]
     },
     "execution_count": 90,
     "metadata": {},
     "output_type": "execute_result"
    }
   ],
   "source": [
    "#DataFrame 필터링: Timedelta/문자열을 사용하여 비교 연산 가능\n",
    "(deliveries[\"duration\"] > pd.Timedelta(days = 365)).head()\n",
    "#(deliveries[\"duration\"] > \"365 days\").head()"
   ]
  },
  {
   "cell_type": "code",
   "execution_count": 91,
   "id": "3894862b",
   "metadata": {},
   "outputs": [
    {
     "data": {
      "text/html": [
       "<div>\n",
       "<style scoped>\n",
       "    .dataframe tbody tr th:only-of-type {\n",
       "        vertical-align: middle;\n",
       "    }\n",
       "\n",
       "    .dataframe tbody tr th {\n",
       "        vertical-align: top;\n",
       "    }\n",
       "\n",
       "    .dataframe thead th {\n",
       "        text-align: right;\n",
       "    }\n",
       "</style>\n",
       "<table border=\"1\" class=\"dataframe\">\n",
       "  <thead>\n",
       "    <tr style=\"text-align: right;\">\n",
       "      <th></th>\n",
       "      <th>order_date</th>\n",
       "      <th>delivery_date</th>\n",
       "      <th>duration</th>\n",
       "    </tr>\n",
       "  </thead>\n",
       "  <tbody>\n",
       "    <tr>\n",
       "      <th>1</th>\n",
       "      <td>1992-04-22</td>\n",
       "      <td>1998-03-06</td>\n",
       "      <td>2144 days</td>\n",
       "    </tr>\n",
       "    <tr>\n",
       "      <th>2</th>\n",
       "      <td>1991-02-10</td>\n",
       "      <td>1992-08-26</td>\n",
       "      <td>563 days</td>\n",
       "    </tr>\n",
       "    <tr>\n",
       "      <th>3</th>\n",
       "      <td>1992-07-21</td>\n",
       "      <td>1997-11-20</td>\n",
       "      <td>1948 days</td>\n",
       "    </tr>\n",
       "    <tr>\n",
       "      <th>4</th>\n",
       "      <td>1993-09-02</td>\n",
       "      <td>1998-06-10</td>\n",
       "      <td>1742 days</td>\n",
       "    </tr>\n",
       "    <tr>\n",
       "      <th>6</th>\n",
       "      <td>1990-01-25</td>\n",
       "      <td>1994-10-02</td>\n",
       "      <td>1711 days</td>\n",
       "    </tr>\n",
       "  </tbody>\n",
       "</table>\n",
       "</div>"
      ],
      "text/plain": [
       "  order_date delivery_date  duration\n",
       "1 1992-04-22    1998-03-06 2144 days\n",
       "2 1991-02-10    1992-08-26  563 days\n",
       "3 1992-07-21    1997-11-20 1948 days\n",
       "4 1993-09-02    1998-06-10 1742 days\n",
       "6 1990-01-25    1994-10-02 1711 days"
      ]
     },
     "execution_count": 91,
     "metadata": {},
     "output_type": "execute_result"
    }
   ],
   "source": [
    "deliveries[deliveries[\"duration\"] > \"365 days\"].head()"
   ]
  },
  {
   "cell_type": "code",
   "execution_count": 92,
   "id": "b738ffc5",
   "metadata": {},
   "outputs": [
    {
     "data": {
      "text/html": [
       "<div>\n",
       "<style scoped>\n",
       "    .dataframe tbody tr th:only-of-type {\n",
       "        vertical-align: middle;\n",
       "    }\n",
       "\n",
       "    .dataframe tbody tr th {\n",
       "        vertical-align: top;\n",
       "    }\n",
       "\n",
       "    .dataframe thead th {\n",
       "        text-align: right;\n",
       "    }\n",
       "</style>\n",
       "<table border=\"1\" class=\"dataframe\">\n",
       "  <thead>\n",
       "    <tr style=\"text-align: right;\">\n",
       "      <th></th>\n",
       "      <th>order_date</th>\n",
       "      <th>delivery_date</th>\n",
       "      <th>duration</th>\n",
       "    </tr>\n",
       "  </thead>\n",
       "  <tbody>\n",
       "    <tr>\n",
       "      <th>1</th>\n",
       "      <td>1992-04-22</td>\n",
       "      <td>1998-03-06</td>\n",
       "      <td>2144 days</td>\n",
       "    </tr>\n",
       "    <tr>\n",
       "      <th>7</th>\n",
       "      <td>1992-02-23</td>\n",
       "      <td>1998-12-30</td>\n",
       "      <td>2502 days</td>\n",
       "    </tr>\n",
       "    <tr>\n",
       "      <th>11</th>\n",
       "      <td>1992-10-17</td>\n",
       "      <td>1998-10-06</td>\n",
       "      <td>2180 days</td>\n",
       "    </tr>\n",
       "    <tr>\n",
       "      <th>12</th>\n",
       "      <td>1992-05-30</td>\n",
       "      <td>1999-08-15</td>\n",
       "      <td>2633 days</td>\n",
       "    </tr>\n",
       "    <tr>\n",
       "      <th>15</th>\n",
       "      <td>1990-01-20</td>\n",
       "      <td>1998-07-24</td>\n",
       "      <td>3107 days</td>\n",
       "    </tr>\n",
       "  </tbody>\n",
       "</table>\n",
       "</div>"
      ],
      "text/plain": [
       "   order_date delivery_date  duration\n",
       "1  1992-04-22    1998-03-06 2144 days\n",
       "7  1992-02-23    1998-12-30 2502 days\n",
       "11 1992-10-17    1998-10-06 2180 days\n",
       "12 1992-05-30    1999-08-15 2633 days\n",
       "15 1990-01-20    1998-07-24 3107 days"
      ]
     },
     "execution_count": 92,
     "metadata": {},
     "output_type": "execute_result"
    }
   ],
   "source": [
    "#비교하는 시간을 필요한 만큼 세분화 -> 쉼표로 시간 단위 구분\n",
    "long_time = (\n",
    "    deliveries[\"duration\"] > \"2000 days, 8 hours, 4 minutes\"\n",
    ")\n",
    "deliveries[long_time].head()"
   ]
  },
  {
   "cell_type": "markdown",
   "id": "92c59faf",
   "metadata": {},
   "source": [
    "# 코딩 챌린지"
   ]
  },
  {
   "cell_type": "code",
   "execution_count": 93,
   "id": "c7d146cb",
   "metadata": {},
   "outputs": [
    {
     "data": {
      "text/html": [
       "<div>\n",
       "<style scoped>\n",
       "    .dataframe tbody tr th:only-of-type {\n",
       "        vertical-align: middle;\n",
       "    }\n",
       "\n",
       "    .dataframe tbody tr th {\n",
       "        vertical-align: top;\n",
       "    }\n",
       "\n",
       "    .dataframe thead th {\n",
       "        text-align: right;\n",
       "    }\n",
       "</style>\n",
       "<table border=\"1\" class=\"dataframe\">\n",
       "  <thead>\n",
       "    <tr style=\"text-align: right;\">\n",
       "      <th></th>\n",
       "      <th>start_time</th>\n",
       "      <th>stop_time</th>\n",
       "    </tr>\n",
       "  </thead>\n",
       "  <tbody>\n",
       "    <tr>\n",
       "      <th>0</th>\n",
       "      <td>2020-06-01 00:00:03.3720</td>\n",
       "      <td>2020-06-01 00:17:46.2080</td>\n",
       "    </tr>\n",
       "    <tr>\n",
       "      <th>1</th>\n",
       "      <td>2020-06-01 00:00:03.5530</td>\n",
       "      <td>2020-06-01 01:03:33.9360</td>\n",
       "    </tr>\n",
       "    <tr>\n",
       "      <th>2</th>\n",
       "      <td>2020-06-01 00:00:09.6140</td>\n",
       "      <td>2020-06-01 00:17:06.8330</td>\n",
       "    </tr>\n",
       "    <tr>\n",
       "      <th>3</th>\n",
       "      <td>2020-06-01 00:00:12.1780</td>\n",
       "      <td>2020-06-01 00:03:58.8640</td>\n",
       "    </tr>\n",
       "    <tr>\n",
       "      <th>4</th>\n",
       "      <td>2020-06-01 00:00:21.2550</td>\n",
       "      <td>2020-06-01 00:24:18.9650</td>\n",
       "    </tr>\n",
       "  </tbody>\n",
       "</table>\n",
       "</div>"
      ],
      "text/plain": [
       "                 start_time                 stop_time\n",
       "0  2020-06-01 00:00:03.3720  2020-06-01 00:17:46.2080\n",
       "1  2020-06-01 00:00:03.5530  2020-06-01 01:03:33.9360\n",
       "2  2020-06-01 00:00:09.6140  2020-06-01 00:17:06.8330\n",
       "3  2020-06-01 00:00:12.1780  2020-06-01 00:03:58.8640\n",
       "4  2020-06-01 00:00:21.2550  2020-06-01 00:24:18.9650"
      ]
     },
     "execution_count": 93,
     "metadata": {},
     "output_type": "execute_result"
    }
   ],
   "source": [
    "citi_bike = pd.read_csv(\"citibike.csv\")\n",
    "citi_bike.head()"
   ]
  },
  {
   "cell_type": "code",
   "execution_count": 94,
   "id": "f20b0f0f",
   "metadata": {},
   "outputs": [
    {
     "name": "stdout",
     "output_type": "stream",
     "text": [
      "<class 'pandas.core.frame.DataFrame'>\n",
      "RangeIndex: 1882273 entries, 0 to 1882272\n",
      "Data columns (total 2 columns):\n",
      " #   Column      Dtype \n",
      "---  ------      ----- \n",
      " 0   start_time  object\n",
      " 1   stop_time   object\n",
      "dtypes: object(2)\n",
      "memory usage: 28.7+ MB\n"
     ]
    }
   ],
   "source": [
    "#info 메서드: DataFrame의 길이, 열의 데이터 유형 및 메모리 사용량을 포함하는 요약 정보 확인\n",
    "citi_bike.info()"
   ]
  },
  {
   "cell_type": "code",
   "execution_count": 95,
   "id": "8951e6c0",
   "metadata": {},
   "outputs": [],
   "source": [
    "#1. start_time과 stop_time 열을 문자열 대신 날짜/시간 값을 저장하도록 변환\n",
    "for column in [\"start_time\", \"stop_time\"]:\n",
    "    citi_bike[column] = pd.to_datetime(citi_bike[column])"
   ]
  },
  {
   "cell_type": "code",
   "execution_count": 96,
   "id": "3122740d",
   "metadata": {},
   "outputs": [
    {
     "name": "stdout",
     "output_type": "stream",
     "text": [
      "<class 'pandas.core.frame.DataFrame'>\n",
      "RangeIndex: 1882273 entries, 0 to 1882272\n",
      "Data columns (total 2 columns):\n",
      " #   Column      Dtype         \n",
      "---  ------      -----         \n",
      " 0   start_time  datetime64[ns]\n",
      " 1   stop_time   datetime64[ns]\n",
      "dtypes: datetime64[ns](2)\n",
      "memory usage: 28.7 MB\n"
     ]
    }
   ],
   "source": [
    "citi_bike.info()"
   ]
  },
  {
   "cell_type": "code",
   "execution_count": 98,
   "id": "dfaab9c6",
   "metadata": {},
   "outputs": [
    {
     "data": {
      "text/plain": [
       "Tuesday      305833\n",
       "Sunday       301482\n",
       "Monday       292690\n",
       "Saturday     285966\n",
       "Friday       258479\n",
       "Wednesday    222647\n",
       "Thursday     215176\n",
       "Name: start_time, dtype: int64"
      ]
     },
     "execution_count": 98,
     "metadata": {},
     "output_type": "execute_result"
    }
   ],
   "source": [
    "#2. 각 요일에 승차한 건 수를 계산\n",
    "#사람들이 자전거를 가장 많이 타는 요일->start_time열을 기준으로 계산\n",
    "citi_bike[\"start_time\"].dt.day_name().value_counts()"
   ]
  },
  {
   "cell_type": "code",
   "execution_count": 101,
   "id": "1dc8f2d4",
   "metadata": {},
   "outputs": [
    {
     "data": {
      "text/plain": [
       "2020-06-15    481211\n",
       "2020-06-08    471384\n",
       "2020-06-22    465412\n",
       "2020-06-01    337590\n",
       "2020-06-29    126676\n",
       "Name: start_time, dtype: int64"
      ]
     },
     "execution_count": 101,
     "metadata": {},
     "output_type": "execute_result"
    }
   ],
   "source": [
    "#3. 해당 월의 각 주당 승차건을 구하기\n",
    "#(start_time 열의 각 날짜를 이전/현재 월요일로 변환)\n",
    "days_away_from_monday = citi_bike[\"start_time\"].dt.dayofweek\n",
    "dates_rounded_to_monday = citi_bike[\"start_time\"] - pd.to_timedelta(\n",
    "    days_away_from_monday, unit = \"day\"\n",
    ") #각 날짜를 이전/현재 월요일로 변환\n",
    "dates_rounded_to_monday.dt.date.value_counts()"
   ]
  },
  {
   "cell_type": "code",
   "execution_count": 102,
   "id": "58cc197e",
   "metadata": {},
   "outputs": [
    {
     "data": {
      "text/plain": [
       "0   0 days 00:17:42.836000\n",
       "1   0 days 01:03:30.383000\n",
       "2   0 days 00:16:57.219000\n",
       "3   0 days 00:03:46.686000\n",
       "4   0 days 00:23:57.710000\n",
       "Name: duration, dtype: timedelta64[ns]"
      ]
     },
     "execution_count": 102,
     "metadata": {},
     "output_type": "execute_result"
    }
   ],
   "source": [
    "#4. 각 승차 시간을 계산, 결과를 새로운 duration 열에 저장\n",
    "citi_bike[\"duration\"] = (\n",
    "    citi_bike[\"stop_time\"] - citi_bike[\"start_time\"]\n",
    ")\n",
    "citi_bike[\"duration\"].head()"
   ]
  },
  {
   "cell_type": "code",
   "execution_count": 103,
   "id": "2a0890dc",
   "metadata": {},
   "outputs": [
    {
     "data": {
      "text/plain": [
       "Timedelta('0 days 00:27:19.590506853')"
      ]
     },
     "execution_count": 103,
     "metadata": {},
     "output_type": "execute_result"
    }
   ],
   "source": [
    "#5. 자전거를 타는 평균 시간 구하기\n",
    "citi_bike[\"duration\"].mean()"
   ]
  },
  {
   "cell_type": "code",
   "execution_count": 104,
   "id": "a3927cab",
   "metadata": {},
   "outputs": [
    {
     "data": {
      "text/plain": [
       "50593    32 days 15:01:54.940000\n",
       "98339    31 days 01:47:20.632000\n",
       "52306    30 days 19:32:20.696000\n",
       "15171    30 days 04:26:48.424000\n",
       "149761   28 days 09:24:50.696000\n",
       "Name: duration, dtype: timedelta64[ns]"
      ]
     },
     "execution_count": 104,
     "metadata": {},
     "output_type": "execute_result"
    }
   ],
   "source": [
    "#6. 데이터셋에서 가장 긴 승차 시간을 5건 추출\n",
    "citi_bike[\"duration\"].sort_values(ascending = False).head()"
   ]
  }
 ],
 "metadata": {
  "kernelspec": {
   "display_name": "Python 3 (ipykernel)",
   "language": "python",
   "name": "python3"
  },
  "language_info": {
   "codemirror_mode": {
    "name": "ipython",
    "version": 3
   },
   "file_extension": ".py",
   "mimetype": "text/x-python",
   "name": "python",
   "nbconvert_exporter": "python",
   "pygments_lexer": "ipython3",
   "version": "3.10.9"
  }
 },
 "nbformat": 4,
 "nbformat_minor": 5
}

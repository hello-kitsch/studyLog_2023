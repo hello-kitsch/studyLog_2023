{
 "cells": [
  {
   "cell_type": "markdown",
   "id": "65f271e3",
   "metadata": {},
   "source": [
    "- 판다스가 임의로 설정한 값을 사용자 정의 화면 요구사항에 맞게 변경하고 싶을때\n",
    "  - 행 및 열 제한, 부동소수점 정밀도, 값 내림 등\n",
    "# 판다스 설정 확인과 변경"
   ]
  },
  {
   "cell_type": "code",
   "execution_count": 2,
   "id": "c822d5e5",
   "metadata": {},
   "outputs": [
    {
     "data": {
      "text/html": [
       "<div>\n",
       "<style scoped>\n",
       "    .dataframe tbody tr th:only-of-type {\n",
       "        vertical-align: middle;\n",
       "    }\n",
       "\n",
       "    .dataframe tbody tr th {\n",
       "        vertical-align: top;\n",
       "    }\n",
       "\n",
       "    .dataframe thead th {\n",
       "        text-align: right;\n",
       "    }\n",
       "</style>\n",
       "<table border=\"1\" class=\"dataframe\">\n",
       "  <thead>\n",
       "    <tr style=\"text-align: right;\">\n",
       "      <th></th>\n",
       "      <th>Country</th>\n",
       "      <th>Score</th>\n",
       "      <th>GDP per capita</th>\n",
       "      <th>Social support</th>\n",
       "      <th>Life expectancy</th>\n",
       "      <th>Generosity</th>\n",
       "    </tr>\n",
       "  </thead>\n",
       "  <tbody>\n",
       "    <tr>\n",
       "      <th>0</th>\n",
       "      <td>Finland</td>\n",
       "      <td>7.769</td>\n",
       "      <td>1.340</td>\n",
       "      <td>1.587</td>\n",
       "      <td>0.986</td>\n",
       "      <td>0.153</td>\n",
       "    </tr>\n",
       "    <tr>\n",
       "      <th>1</th>\n",
       "      <td>Denmark</td>\n",
       "      <td>7.600</td>\n",
       "      <td>1.383</td>\n",
       "      <td>1.573</td>\n",
       "      <td>0.996</td>\n",
       "      <td>0.252</td>\n",
       "    </tr>\n",
       "    <tr>\n",
       "      <th>2</th>\n",
       "      <td>Norway</td>\n",
       "      <td>7.554</td>\n",
       "      <td>1.488</td>\n",
       "      <td>1.582</td>\n",
       "      <td>1.028</td>\n",
       "      <td>0.271</td>\n",
       "    </tr>\n",
       "    <tr>\n",
       "      <th>3</th>\n",
       "      <td>Iceland</td>\n",
       "      <td>7.494</td>\n",
       "      <td>1.380</td>\n",
       "      <td>1.624</td>\n",
       "      <td>1.026</td>\n",
       "      <td>0.354</td>\n",
       "    </tr>\n",
       "    <tr>\n",
       "      <th>4</th>\n",
       "      <td>Netherlands</td>\n",
       "      <td>7.488</td>\n",
       "      <td>1.396</td>\n",
       "      <td>1.522</td>\n",
       "      <td>0.999</td>\n",
       "      <td>0.322</td>\n",
       "    </tr>\n",
       "  </tbody>\n",
       "</table>\n",
       "</div>"
      ],
      "text/plain": [
       "       Country  Score  GDP per capita  Social support  Life expectancy  \\\n",
       "0      Finland  7.769           1.340           1.587            0.986   \n",
       "1      Denmark  7.600           1.383           1.573            0.996   \n",
       "2       Norway  7.554           1.488           1.582            1.028   \n",
       "3      Iceland  7.494           1.380           1.624            1.026   \n",
       "4  Netherlands  7.488           1.396           1.522            0.999   \n",
       "\n",
       "   Generosity  \n",
       "0       0.153  \n",
       "1       0.252  \n",
       "2       0.271  \n",
       "3       0.354  \n",
       "4       0.322  "
      ]
     },
     "execution_count": 2,
     "metadata": {},
     "output_type": "execute_result"
    }
   ],
   "source": [
    "import pandas as pd\n",
    "happiness = pd.read_csv(\"happiness.csv\")\n",
    "happiness.head()"
   ]
  },
  {
   "cell_type": "markdown",
   "id": "039fcf86",
   "metadata": {},
   "source": [
    "- 판다스는 라이브러리 최상위 수준에 있는 options 객체에 설정을 저장"
   ]
  },
  {
   "cell_type": "code",
   "execution_count": 4,
   "id": "a0b2f341",
   "metadata": {},
   "outputs": [
    {
     "name": "stdout",
     "output_type": "stream",
     "text": [
      "display.max_rows : int\n",
      "    If max_rows is exceeded, switch to truncate view. Depending on\n",
      "    `large_repr`, objects are either centrally truncated or printed as\n",
      "    a summary view. 'None' value means unlimited.\n",
      "\n",
      "    In case python/IPython is running in a terminal and `large_repr`\n",
      "    equals 'truncate' this can be set to 0 and pandas will auto-detect\n",
      "    the height of the terminal and print a truncated object which fits\n",
      "    the screen height. The IPython notebook, IPython qtconsole, or\n",
      "    IDLE do not run in a terminal and hence it is not possible to do\n",
      "    correct auto-detection.\n",
      "    [default: 60] [currently: 60]\n"
     ]
    }
   ],
   "source": [
    "#display 범주: 판다스가 자료구조를 출력하는 형식을 설정\n",
    "#최상위 describe_option 함수: 주어진 설정의 문서를 반환\n",
    "  #설정 이름을 나타내는 문자열을 함수에 전달 가능\n",
    "pd.describe_option(\"display.max_rows\") \n",
    "#판다스가 DataFrame을 자르기 전에 출력할 최대 행 수\n",
    "#문서의 끝 부분은 설정의 기본 값과 현재 값"
   ]
  },
  {
   "cell_type": "code",
   "execution_count": 6,
   "id": "7a2549a5",
   "metadata": {},
   "outputs": [
    {
     "name": "stdout",
     "output_type": "stream",
     "text": [
      "display.max_columns : int\n",
      "    If max_cols is exceeded, switch to truncate view. Depending on\n",
      "    `large_repr`, objects are either centrally truncated or printed as\n",
      "    a summary view. 'None' value means unlimited.\n",
      "\n",
      "    In case python/IPython is running in a terminal and `large_repr`\n",
      "    equals 'truncate' this can be set to 0 or None and pandas will auto-detect\n",
      "    the width of the terminal and print a truncated object which fits\n",
      "    the screen width. The IPython notebook, IPython qtconsole, or IDLE\n",
      "    do not run in a terminal and hence it is not possible to do\n",
      "    correct auto-detection and defaults to 20.\n",
      "    [default: 20] [currently: 20]\n",
      "display.max_colwidth : int or None\n",
      "    The maximum width in characters of a column in the repr of\n",
      "    a pandas data structure. When the column overflows, a \"...\"\n",
      "    placeholder is embedded in the output. A 'None' value means unlimited.\n",
      "    [default: 50] [currently: 50]\n",
      "styler.render.max_columns : int, optional\n",
      "    The maximum number of columns that will be rendered. May still be reduced to\n",
      "    satisfy ``max_elements``, which takes precedence.\n",
      "    [default: None] [currently: None]\n"
     ]
    }
   ],
   "source": [
    "#판다스는 문자열 인수와 일치하는 모든 라이브러리 설정을 출력\n",
    "  #정규표현식을 기반, describe_option의 인수를 사용 가능한 설정과 비교\n",
    "  #따라서 상위 범주를 포함하지 않아도 찾을 수는 있음.\n",
    "pd.describe_option(\"max_col\")"
   ]
  },
  {
   "cell_type": "markdown",
   "id": "86ad0291",
   "metadata": {},
   "source": [
    "- 설정의 현재 값을 가져오는 방법\n",
    "  1. 판다스의 최상위 수준에 있는 get_option 함수를 사용\n",
    "  2. 최상위 pd.options 객체의 속성으로 상위 범주와 특정설정에 접근"
   ]
  },
  {
   "cell_type": "code",
   "execution_count": 7,
   "id": "916eaeb3",
   "metadata": {},
   "outputs": [
    {
     "data": {
      "text/plain": [
       "60"
      ]
     },
     "execution_count": 7,
     "metadata": {},
     "output_type": "execute_result"
    }
   ],
   "source": [
    "pd.get_option(\"display.max_rows\")"
   ]
  },
  {
   "cell_type": "code",
   "execution_count": 8,
   "id": "e6fff8a4",
   "metadata": {},
   "outputs": [
    {
     "data": {
      "text/plain": [
       "60"
      ]
     },
     "execution_count": 8,
     "metadata": {},
     "output_type": "execute_result"
    }
   ],
   "source": [
    "pd.options.display.max_rows"
   ]
  },
  {
   "cell_type": "markdown",
   "id": "83a26887",
   "metadata": {},
   "source": [
    "- 설정 값을 변경하는 방법\n",
    "  1. 판다스의 최상위 수준에 있는 set_option 함수: 설정의 이름(첫번째 인수), 새로 설정할 값(두번째 인수)\n",
    "  2. 최상위 pd.options 객체의 속성으로 해당 설정에 접근하여 할당 연산자로 새 값을 할당"
   ]
  },
  {
   "cell_type": "code",
   "execution_count": 10,
   "id": "5940ce18",
   "metadata": {},
   "outputs": [
    {
     "data": {
      "text/plain": [
       "6"
      ]
     },
     "execution_count": 10,
     "metadata": {},
     "output_type": "execute_result"
    }
   ],
   "source": [
    "pd.set_option(\"display.max_rows\", 6)\n",
    "pd.options.display.max_rows"
   ]
  },
  {
   "cell_type": "code",
   "execution_count": 11,
   "id": "ad3fad61",
   "metadata": {},
   "outputs": [
    {
     "data": {
      "text/plain": [
       "6"
      ]
     },
     "execution_count": 11,
     "metadata": {},
     "output_type": "execute_result"
    }
   ],
   "source": [
    "pd.options.display.max_rows = 6\n",
    "pd.options.display.max_rows"
   ]
  },
  {
   "cell_type": "code",
   "execution_count": 12,
   "id": "cd779f55",
   "metadata": {},
   "outputs": [
    {
     "data": {
      "text/html": [
       "<div>\n",
       "<style scoped>\n",
       "    .dataframe tbody tr th:only-of-type {\n",
       "        vertical-align: middle;\n",
       "    }\n",
       "\n",
       "    .dataframe tbody tr th {\n",
       "        vertical-align: top;\n",
       "    }\n",
       "\n",
       "    .dataframe thead th {\n",
       "        text-align: right;\n",
       "    }\n",
       "</style>\n",
       "<table border=\"1\" class=\"dataframe\">\n",
       "  <thead>\n",
       "    <tr style=\"text-align: right;\">\n",
       "      <th></th>\n",
       "      <th>Country</th>\n",
       "      <th>Score</th>\n",
       "      <th>GDP per capita</th>\n",
       "      <th>Social support</th>\n",
       "      <th>Life expectancy</th>\n",
       "      <th>Generosity</th>\n",
       "    </tr>\n",
       "  </thead>\n",
       "  <tbody>\n",
       "    <tr>\n",
       "      <th>0</th>\n",
       "      <td>Finland</td>\n",
       "      <td>7.769</td>\n",
       "      <td>1.340</td>\n",
       "      <td>1.587</td>\n",
       "      <td>0.986</td>\n",
       "      <td>0.153</td>\n",
       "    </tr>\n",
       "    <tr>\n",
       "      <th>1</th>\n",
       "      <td>Denmark</td>\n",
       "      <td>7.600</td>\n",
       "      <td>1.383</td>\n",
       "      <td>1.573</td>\n",
       "      <td>0.996</td>\n",
       "      <td>0.252</td>\n",
       "    </tr>\n",
       "    <tr>\n",
       "      <th>2</th>\n",
       "      <td>Norway</td>\n",
       "      <td>7.554</td>\n",
       "      <td>1.488</td>\n",
       "      <td>1.582</td>\n",
       "      <td>1.028</td>\n",
       "      <td>0.271</td>\n",
       "    </tr>\n",
       "    <tr>\n",
       "      <th>...</th>\n",
       "      <td>...</td>\n",
       "      <td>...</td>\n",
       "      <td>...</td>\n",
       "      <td>...</td>\n",
       "      <td>...</td>\n",
       "      <td>...</td>\n",
       "    </tr>\n",
       "    <tr>\n",
       "      <th>4</th>\n",
       "      <td>Netherlands</td>\n",
       "      <td>7.488</td>\n",
       "      <td>1.396</td>\n",
       "      <td>1.522</td>\n",
       "      <td>0.999</td>\n",
       "      <td>0.322</td>\n",
       "    </tr>\n",
       "    <tr>\n",
       "      <th>5</th>\n",
       "      <td>Switzerland</td>\n",
       "      <td>7.480</td>\n",
       "      <td>1.452</td>\n",
       "      <td>1.526</td>\n",
       "      <td>1.052</td>\n",
       "      <td>0.263</td>\n",
       "    </tr>\n",
       "    <tr>\n",
       "      <th>6</th>\n",
       "      <td>Sweden</td>\n",
       "      <td>7.343</td>\n",
       "      <td>1.387</td>\n",
       "      <td>1.487</td>\n",
       "      <td>1.009</td>\n",
       "      <td>0.267</td>\n",
       "    </tr>\n",
       "  </tbody>\n",
       "</table>\n",
       "<p>7 rows × 6 columns</p>\n",
       "</div>"
      ],
      "text/plain": [
       "        Country  Score  GDP per capita  Social support  Life expectancy  \\\n",
       "0       Finland  7.769           1.340           1.587            0.986   \n",
       "1       Denmark  7.600           1.383           1.573            0.996   \n",
       "2        Norway  7.554           1.488           1.582            1.028   \n",
       "..          ...    ...             ...             ...              ...   \n",
       "4   Netherlands  7.488           1.396           1.522            0.999   \n",
       "5   Switzerland  7.480           1.452           1.526            1.052   \n",
       "6        Sweden  7.343           1.387           1.487            1.009   \n",
       "\n",
       "    Generosity  \n",
       "0        0.153  \n",
       "1        0.252  \n",
       "2        0.271  \n",
       "..         ...  \n",
       "4        0.322  \n",
       "5        0.263  \n",
       "6        0.267  \n",
       "\n",
       "[7 rows x 6 columns]"
      ]
     },
     "execution_count": 12,
     "metadata": {},
     "output_type": "execute_result"
    }
   ],
   "source": [
    "#적용 예시\n",
    "happiness.head(7)"
   ]
  },
  {
   "cell_type": "code",
   "execution_count": 15,
   "id": "92ffe499",
   "metadata": {},
   "outputs": [
    {
     "data": {
      "text/plain": [
       "20"
      ]
     },
     "execution_count": 15,
     "metadata": {},
     "output_type": "execute_result"
    }
   ],
   "source": [
    "#max_columns: 출력하는 열의 최대 수를 결정\n",
    "pd.get_option(\"display.max_columns\")\n",
    "#pd.options.display.max_columns"
   ]
  },
  {
   "cell_type": "code",
   "execution_count": 17,
   "id": "2e203df0",
   "metadata": {},
   "outputs": [],
   "source": [
    "pd.set_option(\"display.max_columns\", 2)\n",
    "#pd.options.display.max_columns = 2"
   ]
  },
  {
   "cell_type": "code",
   "execution_count": 19,
   "id": "6dfa8628",
   "metadata": {},
   "outputs": [
    {
     "data": {
      "text/html": [
       "<div>\n",
       "<style scoped>\n",
       "    .dataframe tbody tr th:only-of-type {\n",
       "        vertical-align: middle;\n",
       "    }\n",
       "\n",
       "    .dataframe tbody tr th {\n",
       "        vertical-align: top;\n",
       "    }\n",
       "\n",
       "    .dataframe thead th {\n",
       "        text-align: right;\n",
       "    }\n",
       "</style>\n",
       "<table border=\"1\" class=\"dataframe\">\n",
       "  <thead>\n",
       "    <tr style=\"text-align: right;\">\n",
       "      <th></th>\n",
       "      <th>Country</th>\n",
       "      <th>...</th>\n",
       "      <th>Generosity</th>\n",
       "    </tr>\n",
       "  </thead>\n",
       "  <tbody>\n",
       "    <tr>\n",
       "      <th>0</th>\n",
       "      <td>Finland</td>\n",
       "      <td>...</td>\n",
       "      <td>0.153</td>\n",
       "    </tr>\n",
       "    <tr>\n",
       "      <th>1</th>\n",
       "      <td>Denmark</td>\n",
       "      <td>...</td>\n",
       "      <td>0.252</td>\n",
       "    </tr>\n",
       "    <tr>\n",
       "      <th>2</th>\n",
       "      <td>Norway</td>\n",
       "      <td>...</td>\n",
       "      <td>0.271</td>\n",
       "    </tr>\n",
       "    <tr>\n",
       "      <th>...</th>\n",
       "      <td>...</td>\n",
       "      <td>...</td>\n",
       "      <td>...</td>\n",
       "    </tr>\n",
       "    <tr>\n",
       "      <th>4</th>\n",
       "      <td>Netherlands</td>\n",
       "      <td>...</td>\n",
       "      <td>0.322</td>\n",
       "    </tr>\n",
       "    <tr>\n",
       "      <th>5</th>\n",
       "      <td>Switzerland</td>\n",
       "      <td>...</td>\n",
       "      <td>0.263</td>\n",
       "    </tr>\n",
       "    <tr>\n",
       "      <th>6</th>\n",
       "      <td>Sweden</td>\n",
       "      <td>...</td>\n",
       "      <td>0.267</td>\n",
       "    </tr>\n",
       "  </tbody>\n",
       "</table>\n",
       "<p>7 rows × 6 columns</p>\n",
       "</div>"
      ],
      "text/plain": [
       "        Country  ...  Generosity\n",
       "0       Finland  ...       0.153\n",
       "1       Denmark  ...       0.252\n",
       "2        Norway  ...       0.271\n",
       "..          ...  ...         ...\n",
       "4   Netherlands  ...       0.322\n",
       "5   Switzerland  ...       0.263\n",
       "6        Sweden  ...       0.267\n",
       "\n",
       "[7 rows x 6 columns]"
      ]
     },
     "execution_count": 19,
     "metadata": {},
     "output_type": "execute_result"
    }
   ],
   "source": [
    "happiness.head(7)"
   ]
  },
  {
   "cell_type": "code",
   "execution_count": 20,
   "id": "4b9fd1c3",
   "metadata": {},
   "outputs": [],
   "source": [
    "#최대 열 수를 홀수로 설정하면 판다스는 최대 열 수에 잘리는 열을 포함함\n",
    "pd.set_option(\"display.max_columns\", 5)\n",
    "#pd.options.display.max_columns = 5"
   ]
  },
  {
   "cell_type": "code",
   "execution_count": 21,
   "id": "80f8a82e",
   "metadata": {},
   "outputs": [
    {
     "data": {
      "text/html": [
       "<div>\n",
       "<style scoped>\n",
       "    .dataframe tbody tr th:only-of-type {\n",
       "        vertical-align: middle;\n",
       "    }\n",
       "\n",
       "    .dataframe tbody tr th {\n",
       "        vertical-align: top;\n",
       "    }\n",
       "\n",
       "    .dataframe thead th {\n",
       "        text-align: right;\n",
       "    }\n",
       "</style>\n",
       "<table border=\"1\" class=\"dataframe\">\n",
       "  <thead>\n",
       "    <tr style=\"text-align: right;\">\n",
       "      <th></th>\n",
       "      <th>Country</th>\n",
       "      <th>Score</th>\n",
       "      <th>...</th>\n",
       "      <th>Life expectancy</th>\n",
       "      <th>Generosity</th>\n",
       "    </tr>\n",
       "  </thead>\n",
       "  <tbody>\n",
       "    <tr>\n",
       "      <th>0</th>\n",
       "      <td>Finland</td>\n",
       "      <td>7.769</td>\n",
       "      <td>...</td>\n",
       "      <td>0.986</td>\n",
       "      <td>0.153</td>\n",
       "    </tr>\n",
       "    <tr>\n",
       "      <th>1</th>\n",
       "      <td>Denmark</td>\n",
       "      <td>7.600</td>\n",
       "      <td>...</td>\n",
       "      <td>0.996</td>\n",
       "      <td>0.252</td>\n",
       "    </tr>\n",
       "    <tr>\n",
       "      <th>2</th>\n",
       "      <td>Norway</td>\n",
       "      <td>7.554</td>\n",
       "      <td>...</td>\n",
       "      <td>1.028</td>\n",
       "      <td>0.271</td>\n",
       "    </tr>\n",
       "    <tr>\n",
       "      <th>3</th>\n",
       "      <td>Iceland</td>\n",
       "      <td>7.494</td>\n",
       "      <td>...</td>\n",
       "      <td>1.026</td>\n",
       "      <td>0.354</td>\n",
       "    </tr>\n",
       "    <tr>\n",
       "      <th>4</th>\n",
       "      <td>Netherlands</td>\n",
       "      <td>7.488</td>\n",
       "      <td>...</td>\n",
       "      <td>0.999</td>\n",
       "      <td>0.322</td>\n",
       "    </tr>\n",
       "  </tbody>\n",
       "</table>\n",
       "<p>5 rows × 6 columns</p>\n",
       "</div>"
      ],
      "text/plain": [
       "       Country  Score  ...  Life expectancy  Generosity\n",
       "0      Finland  7.769  ...            0.986       0.153\n",
       "1      Denmark  7.600  ...            0.996       0.252\n",
       "2       Norway  7.554  ...            1.028       0.271\n",
       "3      Iceland  7.494  ...            1.026       0.354\n",
       "4  Netherlands  7.488  ...            0.999       0.322\n",
       "\n",
       "[5 rows x 6 columns]"
      ]
     },
     "execution_count": 21,
     "metadata": {},
     "output_type": "execute_result"
    }
   ],
   "source": [
    "happiness.head()"
   ]
  },
  {
   "cell_type": "code",
   "execution_count": 22,
   "id": "ff64c4ce",
   "metadata": {},
   "outputs": [],
   "source": [
    "#reset_option 함수: 설정을 기존 값으로 되돌리는 함수\n",
    "pd.reset_option(\"display.max_rows\")"
   ]
  },
  {
   "cell_type": "markdown",
   "id": "69460597",
   "metadata": {},
   "source": [
    "# 정밀도"
   ]
  },
  {
   "cell_type": "code",
   "execution_count": 23,
   "id": "1f1a1e57",
   "metadata": {},
   "outputs": [
    {
     "name": "stdout",
     "output_type": "stream",
     "text": [
      "display.precision : int\n",
      "    Floating point output precision in terms of number of places after the\n",
      "    decimal, for regular formatting as well as scientific notation. Similar\n",
      "    to ``precision`` in :meth:`numpy.set_printoptions`.\n",
      "    [default: 6] [currently: 6]\n"
     ]
    }
   ],
   "source": [
    "#display.precision 설정: 부동소수점 숫자 뒤의 자리수를 결정\n",
    "pd.describe_option(\"display.precision\")"
   ]
  },
  {
   "cell_type": "code",
   "execution_count": 25,
   "id": "4d3a64a0",
   "metadata": {},
   "outputs": [
    {
     "data": {
      "text/html": [
       "<div>\n",
       "<style scoped>\n",
       "    .dataframe tbody tr th:only-of-type {\n",
       "        vertical-align: middle;\n",
       "    }\n",
       "\n",
       "    .dataframe tbody tr th {\n",
       "        vertical-align: top;\n",
       "    }\n",
       "\n",
       "    .dataframe thead th {\n",
       "        text-align: right;\n",
       "    }\n",
       "</style>\n",
       "<table border=\"1\" class=\"dataframe\">\n",
       "  <thead>\n",
       "    <tr style=\"text-align: right;\">\n",
       "      <th></th>\n",
       "      <th>Country</th>\n",
       "      <th>Score</th>\n",
       "      <th>...</th>\n",
       "      <th>Life expectancy</th>\n",
       "      <th>Generosity</th>\n",
       "    </tr>\n",
       "  </thead>\n",
       "  <tbody>\n",
       "    <tr>\n",
       "      <th>0</th>\n",
       "      <td>Finland</td>\n",
       "      <td>7.77</td>\n",
       "      <td>...</td>\n",
       "      <td>0.99</td>\n",
       "      <td>0.15</td>\n",
       "    </tr>\n",
       "    <tr>\n",
       "      <th>1</th>\n",
       "      <td>Denmark</td>\n",
       "      <td>7.60</td>\n",
       "      <td>...</td>\n",
       "      <td>1.00</td>\n",
       "      <td>0.25</td>\n",
       "    </tr>\n",
       "    <tr>\n",
       "      <th>2</th>\n",
       "      <td>Norway</td>\n",
       "      <td>7.55</td>\n",
       "      <td>...</td>\n",
       "      <td>1.03</td>\n",
       "      <td>0.27</td>\n",
       "    </tr>\n",
       "    <tr>\n",
       "      <th>3</th>\n",
       "      <td>Iceland</td>\n",
       "      <td>7.49</td>\n",
       "      <td>...</td>\n",
       "      <td>1.03</td>\n",
       "      <td>0.35</td>\n",
       "    </tr>\n",
       "    <tr>\n",
       "      <th>4</th>\n",
       "      <td>Netherlands</td>\n",
       "      <td>7.49</td>\n",
       "      <td>...</td>\n",
       "      <td>1.00</td>\n",
       "      <td>0.32</td>\n",
       "    </tr>\n",
       "  </tbody>\n",
       "</table>\n",
       "<p>5 rows × 6 columns</p>\n",
       "</div>"
      ],
      "text/plain": [
       "       Country  Score  ...  Life expectancy  Generosity\n",
       "0      Finland   7.77  ...             0.99        0.15\n",
       "1      Denmark   7.60  ...             1.00        0.25\n",
       "2       Norway   7.55  ...             1.03        0.27\n",
       "3      Iceland   7.49  ...             1.03        0.35\n",
       "4  Netherlands   7.49  ...             1.00        0.32\n",
       "\n",
       "[5 rows x 6 columns]"
      ]
     },
     "execution_count": 25,
     "metadata": {},
     "output_type": "execute_result"
    }
   ],
   "source": [
    "pd.set_option(\"display.precision\", 2)\n",
    "#pd.options.display.precision = 2\n",
    "\n",
    "happiness.head()"
   ]
  },
  {
   "cell_type": "code",
   "execution_count": 27,
   "id": "303f7974",
   "metadata": {},
   "outputs": [
    {
     "data": {
      "text/plain": [
       "7.769"
      ]
     },
     "execution_count": 27,
     "metadata": {},
     "output_type": "execute_result"
    }
   ],
   "source": [
    "#정밀도 설정은 부동소수점 숫자가 표시하는 형식\"만\" 변경\n",
    "#DataFrame 안에서는 기존 값을 유지\n",
    "happiness.loc[0, \"Score\"]"
   ]
  },
  {
   "cell_type": "markdown",
   "id": "9c6cf1fd",
   "metadata": {},
   "source": [
    "# 최대 열 너비"
   ]
  },
  {
   "cell_type": "code",
   "execution_count": 28,
   "id": "358d629e",
   "metadata": {},
   "outputs": [
    {
     "name": "stdout",
     "output_type": "stream",
     "text": [
      "display.max_colwidth : int or None\n",
      "    The maximum width in characters of a column in the repr of\n",
      "    a pandas data structure. When the column overflows, a \"...\"\n",
      "    placeholder is embedded in the output. A 'None' value means unlimited.\n",
      "    [default: 50] [currently: 50]\n"
     ]
    }
   ],
   "source": [
    "#display.max_colwidth 설정: 판다스가 셀의 텍스트를 자르기 전에 출력할 최대 문자 수\n",
    "pd.describe_option(\"display.max_colwidth\")"
   ]
  },
  {
   "cell_type": "code",
   "execution_count": 30,
   "id": "c4cf69df",
   "metadata": {},
   "outputs": [],
   "source": [
    "pd.set_option(\"display.max_colwidth\", 9)\n",
    "#pd.options.display.max_colwidth = 9"
   ]
  },
  {
   "cell_type": "code",
   "execution_count": 31,
   "id": "2ec4433f",
   "metadata": {},
   "outputs": [
    {
     "data": {
      "text/html": [
       "<div>\n",
       "<style scoped>\n",
       "    .dataframe tbody tr th:only-of-type {\n",
       "        vertical-align: middle;\n",
       "    }\n",
       "\n",
       "    .dataframe tbody tr th {\n",
       "        vertical-align: top;\n",
       "    }\n",
       "\n",
       "    .dataframe thead th {\n",
       "        text-align: right;\n",
       "    }\n",
       "</style>\n",
       "<table border=\"1\" class=\"dataframe\">\n",
       "  <thead>\n",
       "    <tr style=\"text-align: right;\">\n",
       "      <th></th>\n",
       "      <th>Country</th>\n",
       "      <th>Score</th>\n",
       "      <th>...</th>\n",
       "      <th>Life expectancy</th>\n",
       "      <th>Generosity</th>\n",
       "    </tr>\n",
       "  </thead>\n",
       "  <tbody>\n",
       "    <tr>\n",
       "      <th>151</th>\n",
       "      <td>Rwanda</td>\n",
       "      <td>3.33</td>\n",
       "      <td>...</td>\n",
       "      <td>0.61</td>\n",
       "      <td>0.22</td>\n",
       "    </tr>\n",
       "    <tr>\n",
       "      <th>152</th>\n",
       "      <td>Tanzania</td>\n",
       "      <td>3.23</td>\n",
       "      <td>...</td>\n",
       "      <td>0.50</td>\n",
       "      <td>0.28</td>\n",
       "    </tr>\n",
       "    <tr>\n",
       "      <th>153</th>\n",
       "      <td>Afgha...</td>\n",
       "      <td>3.20</td>\n",
       "      <td>...</td>\n",
       "      <td>0.36</td>\n",
       "      <td>0.16</td>\n",
       "    </tr>\n",
       "    <tr>\n",
       "      <th>154</th>\n",
       "      <td>Centr...</td>\n",
       "      <td>3.08</td>\n",
       "      <td>...</td>\n",
       "      <td>0.10</td>\n",
       "      <td>0.23</td>\n",
       "    </tr>\n",
       "    <tr>\n",
       "      <th>155</th>\n",
       "      <td>South...</td>\n",
       "      <td>2.85</td>\n",
       "      <td>...</td>\n",
       "      <td>0.29</td>\n",
       "      <td>0.20</td>\n",
       "    </tr>\n",
       "  </tbody>\n",
       "</table>\n",
       "<p>5 rows × 6 columns</p>\n",
       "</div>"
      ],
      "text/plain": [
       "      Country  Score  ...  Life expectancy  Generosity\n",
       "151    Rwanda   3.33  ...      0.61             0.22  \n",
       "152  Tanzania   3.23  ...      0.50             0.28  \n",
       "153  Afgha...   3.20  ...      0.36             0.16  \n",
       "154  Centr...   3.08  ...      0.10             0.23  \n",
       "155  South...   2.85  ...      0.29             0.20  \n",
       "\n",
       "[5 rows x 6 columns]"
      ]
     },
     "execution_count": 31,
     "metadata": {},
     "output_type": "execute_result"
    }
   ],
   "source": [
    "happiness.tail()"
   ]
  },
  {
   "cell_type": "markdown",
   "id": "64ea159d",
   "metadata": {},
   "source": [
    "# 절단 임계값\n",
    "- 일부 분석에서는 값이 0에 어느정도 가까우면 중요하지 않은 값으로 간주 -> 임계값 설정"
   ]
  },
  {
   "cell_type": "code",
   "execution_count": 32,
   "id": "cea8424f",
   "metadata": {},
   "outputs": [
    {
     "name": "stdout",
     "output_type": "stream",
     "text": [
      "display.chop_threshold : float or None\n",
      "    if set to a float value, all float values smaller than the given threshold\n",
      "    will be displayed as exactly 0 by repr and friends.\n",
      "    [default: None] [currently: None]\n"
     ]
    }
   ],
   "source": [
    "#display.chop_threshold 설정: 부동소수점 값이 출력할 때 고려해야하는 최소 임계값을 설정\n",
    "pd.describe_option(\"display.chop_threshold\")"
   ]
  },
  {
   "cell_type": "code",
   "execution_count": 33,
   "id": "73b14f67",
   "metadata": {},
   "outputs": [],
   "source": [
    "pd.set_option(\"display.chop_threshold\", 0.25)"
   ]
  },
  {
   "cell_type": "code",
   "execution_count": 34,
   "id": "c6ced99f",
   "metadata": {},
   "outputs": [
    {
     "data": {
      "text/html": [
       "<div>\n",
       "<style scoped>\n",
       "    .dataframe tbody tr th:only-of-type {\n",
       "        vertical-align: middle;\n",
       "    }\n",
       "\n",
       "    .dataframe tbody tr th {\n",
       "        vertical-align: top;\n",
       "    }\n",
       "\n",
       "    .dataframe thead th {\n",
       "        text-align: right;\n",
       "    }\n",
       "</style>\n",
       "<table border=\"1\" class=\"dataframe\">\n",
       "  <thead>\n",
       "    <tr style=\"text-align: right;\">\n",
       "      <th></th>\n",
       "      <th>Country</th>\n",
       "      <th>Score</th>\n",
       "      <th>...</th>\n",
       "      <th>Life expectancy</th>\n",
       "      <th>Generosity</th>\n",
       "    </tr>\n",
       "  </thead>\n",
       "  <tbody>\n",
       "    <tr>\n",
       "      <th>151</th>\n",
       "      <td>Rwanda</td>\n",
       "      <td>3.33</td>\n",
       "      <td>...</td>\n",
       "      <td>0.61</td>\n",
       "      <td>0.00</td>\n",
       "    </tr>\n",
       "    <tr>\n",
       "      <th>152</th>\n",
       "      <td>Tanzania</td>\n",
       "      <td>3.23</td>\n",
       "      <td>...</td>\n",
       "      <td>0.50</td>\n",
       "      <td>0.28</td>\n",
       "    </tr>\n",
       "    <tr>\n",
       "      <th>153</th>\n",
       "      <td>Afgha...</td>\n",
       "      <td>3.20</td>\n",
       "      <td>...</td>\n",
       "      <td>0.36</td>\n",
       "      <td>0.00</td>\n",
       "    </tr>\n",
       "    <tr>\n",
       "      <th>154</th>\n",
       "      <td>Centr...</td>\n",
       "      <td>3.08</td>\n",
       "      <td>...</td>\n",
       "      <td>0.00</td>\n",
       "      <td>0.00</td>\n",
       "    </tr>\n",
       "    <tr>\n",
       "      <th>155</th>\n",
       "      <td>South...</td>\n",
       "      <td>2.85</td>\n",
       "      <td>...</td>\n",
       "      <td>0.29</td>\n",
       "      <td>0.00</td>\n",
       "    </tr>\n",
       "  </tbody>\n",
       "</table>\n",
       "<p>5 rows × 6 columns</p>\n",
       "</div>"
      ],
      "text/plain": [
       "      Country  Score  ...  Life expectancy  Generosity\n",
       "151    Rwanda   3.33  ...      0.61             0.00  \n",
       "152  Tanzania   3.23  ...      0.50             0.28  \n",
       "153  Afgha...   3.20  ...      0.36             0.00  \n",
       "154  Centr...   3.08  ...      0.00             0.00  \n",
       "155  South...   2.85  ...      0.29             0.00  \n",
       "\n",
       "[5 rows x 6 columns]"
      ]
     },
     "execution_count": 34,
     "metadata": {},
     "output_type": "execute_result"
    }
   ],
   "source": [
    "happiness.tail()"
   ]
  },
  {
   "cell_type": "markdown",
   "id": "7768be62",
   "metadata": {},
   "source": [
    "- chop_threshold는 DataFrame의 기존 값을 변경하지 않고 출력하는 형식만 변경"
   ]
  },
  {
   "cell_type": "markdown",
   "id": "d0ac68cd",
   "metadata": {},
   "source": [
    "# 설정 컨텍스트\n",
    "- 위의 설정은 모두 전역적(변경하면 이후에 실행되는 모든 주피터 노트북 셀의 출력이 영향을 받음)\n",
    "- 하나의 셀에 대한 출력 설정을 변경하고 싶을 때 판다스의 최상위 option_context 함수를 사용.\n",
    "  - 컨텍스트 블록: 임시 실행 환경, 키워드 with\n",
    "- 주피터는 with 블록의 내용을 노트북 셀의 최종 구문으로 인식하지 않음. \n",
    "  - 따라서 수동 출력시 display (노트북 함수)를 사용"
   ]
  },
  {
   "cell_type": "code",
   "execution_count": 42,
   "id": "fc2a61d1",
   "metadata": {},
   "outputs": [
    {
     "data": {
      "text/html": [
       "<div>\n",
       "<style scoped>\n",
       "    .dataframe tbody tr th:only-of-type {\n",
       "        vertical-align: middle;\n",
       "    }\n",
       "\n",
       "    .dataframe tbody tr th {\n",
       "        vertical-align: top;\n",
       "    }\n",
       "\n",
       "    .dataframe thead th {\n",
       "        text-align: right;\n",
       "    }\n",
       "</style>\n",
       "<table border=\"1\" class=\"dataframe\">\n",
       "  <thead>\n",
       "    <tr style=\"text-align: right;\">\n",
       "      <th></th>\n",
       "      <th>Country</th>\n",
       "      <th>Score</th>\n",
       "      <th>...</th>\n",
       "      <th>Life expectancy</th>\n",
       "      <th>Generosity</th>\n",
       "    </tr>\n",
       "  </thead>\n",
       "  <tbody>\n",
       "    <tr>\n",
       "      <th>0</th>\n",
       "      <td>Finland</td>\n",
       "      <td>7.769</td>\n",
       "      <td>...</td>\n",
       "      <td>0.986</td>\n",
       "      <td>0.000</td>\n",
       "    </tr>\n",
       "    <tr>\n",
       "      <th>1</th>\n",
       "      <td>Denmark</td>\n",
       "      <td>7.600</td>\n",
       "      <td>...</td>\n",
       "      <td>0.996</td>\n",
       "      <td>0.252</td>\n",
       "    </tr>\n",
       "    <tr>\n",
       "      <th>2</th>\n",
       "      <td>Norway</td>\n",
       "      <td>7.554</td>\n",
       "      <td>...</td>\n",
       "      <td>1.028</td>\n",
       "      <td>0.271</td>\n",
       "    </tr>\n",
       "    <tr>\n",
       "      <th>3</th>\n",
       "      <td>Iceland</td>\n",
       "      <td>7.494</td>\n",
       "      <td>...</td>\n",
       "      <td>1.026</td>\n",
       "      <td>0.354</td>\n",
       "    </tr>\n",
       "    <tr>\n",
       "      <th>4</th>\n",
       "      <td>Nethe...</td>\n",
       "      <td>7.488</td>\n",
       "      <td>...</td>\n",
       "      <td>0.999</td>\n",
       "      <td>0.322</td>\n",
       "    </tr>\n",
       "    <tr>\n",
       "      <th>...</th>\n",
       "      <td>...</td>\n",
       "      <td>...</td>\n",
       "      <td>...</td>\n",
       "      <td>...</td>\n",
       "      <td>...</td>\n",
       "    </tr>\n",
       "    <tr>\n",
       "      <th>151</th>\n",
       "      <td>Rwanda</td>\n",
       "      <td>3.334</td>\n",
       "      <td>...</td>\n",
       "      <td>0.614</td>\n",
       "      <td>0.000</td>\n",
       "    </tr>\n",
       "    <tr>\n",
       "      <th>152</th>\n",
       "      <td>Tanzania</td>\n",
       "      <td>3.231</td>\n",
       "      <td>...</td>\n",
       "      <td>0.499</td>\n",
       "      <td>0.276</td>\n",
       "    </tr>\n",
       "    <tr>\n",
       "      <th>153</th>\n",
       "      <td>Afgha...</td>\n",
       "      <td>3.203</td>\n",
       "      <td>...</td>\n",
       "      <td>0.361</td>\n",
       "      <td>0.000</td>\n",
       "    </tr>\n",
       "    <tr>\n",
       "      <th>154</th>\n",
       "      <td>Centr...</td>\n",
       "      <td>3.083</td>\n",
       "      <td>...</td>\n",
       "      <td>0.000</td>\n",
       "      <td>0.000</td>\n",
       "    </tr>\n",
       "    <tr>\n",
       "      <th>155</th>\n",
       "      <td>South...</td>\n",
       "      <td>2.853</td>\n",
       "      <td>...</td>\n",
       "      <td>0.295</td>\n",
       "      <td>0.000</td>\n",
       "    </tr>\n",
       "  </tbody>\n",
       "</table>\n",
       "<p>156 rows × 6 columns</p>\n",
       "</div>"
      ],
      "text/plain": [
       "      Country  Score  ...  Life expectancy  Generosity\n",
       "0     Finland  7.769  ...     0.986            0.000  \n",
       "1     Denmark  7.600  ...     0.996            0.252  \n",
       "2      Norway  7.554  ...     1.028            0.271  \n",
       "3     Iceland  7.494  ...     1.026            0.354  \n",
       "4    Nethe...  7.488  ...     0.999            0.322  \n",
       "..        ...    ...  ...       ...              ...  \n",
       "151    Rwanda  3.334  ...     0.614            0.000  \n",
       "152  Tanzania  3.231  ...     0.499            0.276  \n",
       "153  Afgha...  3.203  ...     0.361            0.000  \n",
       "154  Centr...  3.083  ...     0.000            0.000  \n",
       "155  South...  2.853  ...     0.295            0.000  \n",
       "\n",
       "[156 rows x 6 columns]"
      ]
     },
     "metadata": {},
     "output_type": "display_data"
    }
   ],
   "source": [
    "with pd.option_context(\n",
    "    \"display.max_columns\", 5,\n",
    "    \"display.max_rows\", 10,\n",
    "    \"display.precision\", 3\n",
    "):\n",
    "    display(happiness)"
   ]
  }
 ],
 "metadata": {
  "kernelspec": {
   "display_name": "Python 3 (ipykernel)",
   "language": "python",
   "name": "python3"
  },
  "language_info": {
   "codemirror_mode": {
    "name": "ipython",
    "version": 3
   },
   "file_extension": ".py",
   "mimetype": "text/x-python",
   "name": "python",
   "nbconvert_exporter": "python",
   "pygments_lexer": "ipython3",
   "version": "3.11.5"
  }
 },
 "nbformat": 4,
 "nbformat_minor": 5
}
